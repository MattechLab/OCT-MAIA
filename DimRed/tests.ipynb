{
 "cells": [
  {
   "attachments": {},
   "cell_type": "markdown",
   "metadata": {},
   "source": [
    "# Tests\n",
    "test functions"
   ]
  },
  {
   "cell_type": "code",
   "execution_count": 1,
   "metadata": {},
   "outputs": [
    {
     "name": "stderr",
     "output_type": "stream",
     "text": [
      "c:\\Users\\line\\Desktop\\Mauro\\5_Thickness\\OCT_thickness\\../../2_Preprocessing_Code/amd/prl\\dataset.py:8: FutureWarning: The `skimage.morphology.selem` module is deprecated and will be removed in scikit-image 1.0 (`skimage.morphology.selem` has been moved to `skimage.morphology.footprints`).\n",
      "  from skimage.morphology import selem\n"
     ]
    }
   ],
   "source": [
    "import sys\n",
    "import os\n",
    "from skimage import exposure\n",
    "import pandas as pd \n",
    "import numpy as np \n",
    "import cv2\n",
    "import glob\n",
    "from helpers import *\n",
    "import matplotlib.pyplot as plt\n",
    "from buildDataset import *\n",
    "%matplotlib inline\n",
    "from warnings import warn\n",
    "from sklearn.decomposition import PCA, KernelPCA"
   ]
  },
  {
   "cell_type": "code",
   "execution_count": 2,
   "metadata": {},
   "outputs": [
    {
     "name": "stdout",
     "output_type": "stream",
     "text": [
      "(193536, 5)\n",
      "(193536,)\n"
     ]
    }
   ],
   "source": [
    "X, y = getBalancedXYData(mode='thickness')\n",
    "print(X.shape)\n",
    "print(y.shape)\n",
    "\n",
    "norm_X = NormalizeThickness(X, normmode='EUCLID')\n",
    "\n",
    "# check\n",
    "tol=1e-7\n",
    "for i in range(X.shape[0]):\n",
    "    if np.abs(np.linalg.norm(norm_X[i,:])-1) > tol:\n",
    "        warn(\"vectors are not normalized\")\n",
    "        print(\"index:\", i)\n",
    "        print(np.linalg.norm(norm_X[i,:]))\n",
    "\n",
    "norm_X2 = NormalizeThickness(X, normmode='STD')\n",
    "if (np.abs(norm_X2.mean())>tol) or (np.abs(norm_X2.std()-1))>tol:\n",
    "    warn(\"vectors are not normalized\")\n",
    "    print(norm_X2.mean())\n",
    "    print(norm_X2.std())\n"
   ]
  },
  {
   "cell_type": "code",
   "execution_count": null,
   "metadata": {},
   "outputs": [],
   "source": []
  }
 ],
 "metadata": {
  "kernelspec": {
   "display_name": "OCT",
   "language": "python",
   "name": "python3"
  },
  "language_info": {
   "codemirror_mode": {
    "name": "ipython",
    "version": 3
   },
   "file_extension": ".py",
   "mimetype": "text/x-python",
   "name": "python",
   "nbconvert_exporter": "python",
   "pygments_lexer": "ipython3",
   "version": "3.9.13"
  },
  "orig_nbformat": 4
 },
 "nbformat": 4,
 "nbformat_minor": 2
}
