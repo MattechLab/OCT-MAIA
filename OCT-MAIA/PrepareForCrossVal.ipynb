{
 "cells": [
  {
   "cell_type": "markdown",
   "id": "fc284479",
   "metadata": {},
   "source": [
    "# WHAT IS IMPORTANT ABOUT THIS NOTEBOOK?\n",
    "\n",
    "* The dataset had unbalanced contributions (Some patients has many more OCT scans than other patiens)\n",
    "* The code of this notebook allows to select 14 OCT for each patient, 7 of each eye when it is possible\n",
    "* The resulting datatest selected can be found in C:\\Users\\line\\Desktop\\Mauro\\3_DataSet\\OCT_balanced\\amdP and C:\\Users\\line\\Desktop\\Mauro\\3_DataSet\\OCT_balanced\\controlP\n",
    "* You can simply create a dataset, composed of X,y numpy array by calling the getBalancedXYData function imported from buildDataset as shown in the last cell"
   ]
  },
  {
   "cell_type": "markdown",
   "id": "bb7bb936",
   "metadata": {},
   "source": [
    "# NO NEED TO RUN THIS CODE AGAIN\n",
    "## Here we make sure we keep only one 14 OCT's per patient\n",
    "1) You can see also why we chosed 14 as a cutoff number in the following code\n",
    "2) We drop one patient since he has only 2 oct scans\n",
    "3) We sample randomly from the OCT's and keep, when possible, 7 scan for every eye\n",
    "4) We dedicate 1 control and 1 amd patients to the validation set: this allows for 12CTRL,6AMD, that allows for 2,3,4,6 fold cross validation."
   ]
  },
  {
   "cell_type": "code",
   "execution_count": 3,
   "id": "3201f7ee",
   "metadata": {},
   "outputs": [],
   "source": [
    "from buildDataset import *\n",
    "%matplotlib inline\n",
    "import random\n",
    "\n",
    "from sklearn.ensemble import RandomForestClassifier\n",
    "from sklearn.datasets import make_classification\n",
    "from sklearn.model_selection import train_test_split\n",
    "from sklearn.metrics import accuracy_score,precision_score,recall_score,confusion_matrix,ConfusionMatrixDisplay,f1_score\n",
    "from sklearn.naive_bayes import GaussianNB\n",
    "from sklearn.pipeline import make_pipeline\n",
    "from sklearn.preprocessing import StandardScaler\n",
    "from sklearn.svm import LinearSVC\n",
    "root_path =      DATAPATHS[\"preprocessed\"]\n",
    "from sklearn.model_selection import KFold\n"
   ]
  },
  {
   "cell_type": "code",
   "execution_count": 55,
   "id": "551097bd",
   "metadata": {},
   "outputs": [
    {
     "name": "stdout",
     "output_type": "stream",
     "text": [
      "0 amd_0_left amd_0_right 9 49\n",
      "2 amd_1_left amd_1_right 36 12\n",
      "4 amd_2_left amd_2_right 27 68\n",
      "6 amd_3_left amd_3_right 45 62\n",
      "8 amd_4_left amd_4_right 22 38\n",
      "10 amd_5_left 19\n",
      "11 amd_6_left amd_6_right 97 66\n",
      "13 control_0_left control_0_right 60 14\n",
      "15 control_10_left control_10_right 16 13\n",
      "17 control_11_left control_11_right 8 7\n",
      "19 control_12_left control_12_right 5 9\n",
      "21 control_1_left control_1_right 0 2\n",
      "23 control_2_left control_2_right 15 27\n",
      "25 control_3_left control_3_right 10 10\n",
      "27 control_4_left control_4_right 10 12\n",
      "29 control_5_left control_5_right 15 13\n",
      "31 control_6_left control_6_right 17 4\n",
      "33 control_7_left control_7_right 57 29\n",
      "35 control_8_left control_8_right 8 9\n",
      "37 control_9_left control_9_right 26 37\n",
      "the paths cntrl are: 13 with associated nocts[74, 29, 15, 14, 2, 42, 20, 22, 28, 21, 86, 17, 63], the paths amd are: with associated nocts[58, 48, 95, 107, 60, 19, 163]\n",
      "the rateos for control are [0.30310388513513514, 0.04660560344827587, 0.04939236111111111, 0.037109375, 0.05924479166666667, 0.10109747023809526, 0.05078125, 0.047407670454545456, 0.09626116071428573, 0.09530009920634919, 0.13802083333333331, 0.05392156862745098, 0.1353546626984127] and for amd are [0.1896551724137931, 0.12754991319444445, 0.30563322368421053, 0.31891306464174457, 0.30755208333333334, 0.506373355263158, 0.5652319785276073]\n",
      "the pairs are for control 13 , for AMD [(9, 49), (36, 12), (27, 68), (45, 62), (22, 38), (97, 66)]\n"
     ]
    }
   ],
   "source": [
    "# The only take out from this function are the printings below, describing how many OCT per patient and per eye\n",
    "def checkNditribution(root_path):\n",
    "    '''Checking the number of OCT scans of each patient to be able to select equal contribution from each patient'''\n",
    "    def fix(ls):\n",
    "        ls2 = []\n",
    "        if '+' in ls:\n",
    "            ls2.append( os.path.split(ls.split(\"+\")[0])[1].split(\".\")[0] ) \n",
    "            ls2.append( os.path.split(ls.split(\"+\")[1])[1].split(\".\")[0] )\n",
    "        else:\n",
    "            ls2.append(os.path.split(ls)[1].split(\".\")[0])\n",
    "        return (\" \").join(ls2)    \n",
    "\n",
    "    paths =  glob.glob(os.path.join(root_path + '\\*.pickle'))\n",
    "    paths_amd = []\n",
    "    paths_control = []\n",
    "    num_amd = []\n",
    "    num_control = []\n",
    "    rateoAmd = []\n",
    "    rateoControl = []\n",
    "    total_amd = 0\n",
    "    total_control = 0\n",
    "    iterator = iter(range(0,len(paths)))\n",
    "    AMDtwoEyesSamePatient = []\n",
    "    CtrltwoEyesSamePatient = []\n",
    "\n",
    "    # We need to know how many OCT per patient, but the paths are per eye, hence we need to perform some checks on \n",
    "    # the path name, additionally not all patiens have two paths, since for one patient only one eye was imaged\n",
    "    for i in iterator:\n",
    "        group = paths[i].split(\"\\\\\").pop().split(\"_\")[0]\n",
    "        # Check if the two next paths are of the same patient (left and right eye), if the case we treat them as one single path,\n",
    "        # and use a + to concatenate the two paths, then the fix function will be able to split the path back into two paths.\n",
    "        two_eyes_same_patient = paths[i].split(\"\\\\\")[-1].split(\"_\")[:-1]==paths[i+1].split(\"\\\\\")[-1].split(\"_\")[:-1]\n",
    "        if(two_eyes_same_patient):\n",
    "            if group == 'amd':\n",
    "                AMDtwoEyesSamePatient.append((len(pd.read_pickle(paths[i])),len(pd.read_pickle(paths[i + 1]))))\n",
    "            else:\n",
    "                CtrltwoEyesSamePatient.append((len(pd.read_pickle(paths[i])),len(pd.read_pickle(paths[i + 1]))))\n",
    "            PPocts = pd.read_pickle(paths[i]) + pd.read_pickle(paths[i + 1]) \n",
    "            path = paths[i] + '+' + paths[i+1]\n",
    "            next(iterator, None)\n",
    "            print(i,fix(path),len(pd.read_pickle(paths[i])),len(pd.read_pickle(paths[i + 1])) )\n",
    "        else:\n",
    "            PPocts =pd.read_pickle(paths[i])\n",
    "            path = paths[i]\n",
    "            print(i,fix(path),len(pd.read_pickle(paths[i])))\n",
    "        \n",
    "        num_octs = len(PPocts)\n",
    "        rateos = [np.sum(PPoct.label())/(PPoct.label().shape[0]) for PPoct in PPocts]\n",
    "        rateo = np.mean(rateos)\n",
    "        if (group == 'amd'):\n",
    "            paths_amd.append(path)\n",
    "            num_amd.append(num_octs)\n",
    "            total_amd += num_octs\n",
    "            rateoAmd.append(rateo) \n",
    "        elif (group == 'control'):\n",
    "            paths_control.append(path)\n",
    "            num_control.append(num_octs)\n",
    "            total_control += num_octs\n",
    "            rateoControl.append(rateo) \n",
    "    print(f'the paths cntrl are: {len(paths_control)} with associated nocts{num_control}, the paths amd are: with associated nocts{num_amd}')\n",
    "    print(f'the rateos for control are {rateoControl} and for amd are {rateoAmd}')\n",
    "    print(f'the pairs are for control {len(CtrltwoEyesSamePatient)} , for AMD {AMDtwoEyesSamePatient}')\n",
    "\n",
    "checkNditribution(root_path)"
   ]
  },
  {
   "cell_type": "code",
   "execution_count": 56,
   "id": "bd147c42",
   "metadata": {},
   "outputs": [],
   "source": [
    "# Number of OCTs per patient and per eye\n",
    "ctrlPairs = [(60, 14), (16, 13), (8, 7), (5, 9), (0, 2), (15, 27), (10, 10), (10, 12), (15, 13), (17, 4), (57, 29), (8, 9), (26, 37)]\n",
    "AMDPairs = [(9, 49), (36, 12), (27, 68), (45, 62), (22, 38), (19,0), (97, 66)]"
   ]
  },
  {
   "cell_type": "markdown",
   "id": "b16930ef",
   "metadata": {},
   "source": [
    "# Hence we want only 14 images per patient to have an equal contribution"
   ]
  },
  {
   "cell_type": "code",
   "execution_count": 223,
   "id": "70f1e9b1",
   "metadata": {},
   "outputs": [
    {
     "name": "stdout",
     "output_type": "stream",
     "text": [
      "0 C:\\Users\\line\\Desktop\\Mauro\\preprocessing\\preprocessed_octs\\amd_0_left.pickle+C:\\Users\\line\\Desktop\\Mauro\\preprocessing\\preprocessed_octs\\amd_0_right.pickle 9 49\n",
      "2 C:\\Users\\line\\Desktop\\Mauro\\preprocessing\\preprocessed_octs\\amd_1_left.pickle+C:\\Users\\line\\Desktop\\Mauro\\preprocessing\\preprocessed_octs\\amd_1_right.pickle 36 12\n",
      "4 C:\\Users\\line\\Desktop\\Mauro\\preprocessing\\preprocessed_octs\\amd_2_left.pickle+C:\\Users\\line\\Desktop\\Mauro\\preprocessing\\preprocessed_octs\\amd_2_right.pickle 27 68\n",
      "6 C:\\Users\\line\\Desktop\\Mauro\\preprocessing\\preprocessed_octs\\amd_3_left.pickle+C:\\Users\\line\\Desktop\\Mauro\\preprocessing\\preprocessed_octs\\amd_3_right.pickle 45 62\n",
      "8 C:\\Users\\line\\Desktop\\Mauro\\preprocessing\\preprocessed_octs\\amd_4_left.pickle+C:\\Users\\line\\Desktop\\Mauro\\preprocessing\\preprocessed_octs\\amd_4_right.pickle 22 38\n",
      "10 C:\\Users\\line\\Desktop\\Mauro\\preprocessing\\preprocessed_octs\\amd_5_left.pickle 19 97\n",
      "11 C:\\Users\\line\\Desktop\\Mauro\\preprocessing\\preprocessed_octs\\amd_6_left.pickle+C:\\Users\\line\\Desktop\\Mauro\\preprocessing\\preprocessed_octs\\amd_6_right.pickle 97 66\n",
      "13 C:\\Users\\line\\Desktop\\Mauro\\preprocessing\\preprocessed_octs\\control_0_left.pickle+C:\\Users\\line\\Desktop\\Mauro\\preprocessing\\preprocessed_octs\\control_0_right.pickle 60 14\n",
      "15 C:\\Users\\line\\Desktop\\Mauro\\preprocessing\\preprocessed_octs\\control_10_left.pickle+C:\\Users\\line\\Desktop\\Mauro\\preprocessing\\preprocessed_octs\\control_10_right.pickle 16 13\n",
      "17 C:\\Users\\line\\Desktop\\Mauro\\preprocessing\\preprocessed_octs\\control_11_left.pickle+C:\\Users\\line\\Desktop\\Mauro\\preprocessing\\preprocessed_octs\\control_11_right.pickle 8 7\n",
      "19 C:\\Users\\line\\Desktop\\Mauro\\preprocessing\\preprocessed_octs\\control_12_left.pickle+C:\\Users\\line\\Desktop\\Mauro\\preprocessing\\preprocessed_octs\\control_12_right.pickle 5 9\n",
      "21 C:\\Users\\line\\Desktop\\Mauro\\preprocessing\\preprocessed_octs\\control_1_left.pickle+C:\\Users\\line\\Desktop\\Mauro\\preprocessing\\preprocessed_octs\\control_1_right.pickle 0 2\n",
      "23 C:\\Users\\line\\Desktop\\Mauro\\preprocessing\\preprocessed_octs\\control_2_left.pickle+C:\\Users\\line\\Desktop\\Mauro\\preprocessing\\preprocessed_octs\\control_2_right.pickle 15 27\n",
      "25 C:\\Users\\line\\Desktop\\Mauro\\preprocessing\\preprocessed_octs\\control_3_left.pickle+C:\\Users\\line\\Desktop\\Mauro\\preprocessing\\preprocessed_octs\\control_3_right.pickle 10 10\n",
      "27 C:\\Users\\line\\Desktop\\Mauro\\preprocessing\\preprocessed_octs\\control_4_left.pickle+C:\\Users\\line\\Desktop\\Mauro\\preprocessing\\preprocessed_octs\\control_4_right.pickle 10 12\n",
      "29 C:\\Users\\line\\Desktop\\Mauro\\preprocessing\\preprocessed_octs\\control_5_left.pickle+C:\\Users\\line\\Desktop\\Mauro\\preprocessing\\preprocessed_octs\\control_5_right.pickle 15 13\n",
      "31 C:\\Users\\line\\Desktop\\Mauro\\preprocessing\\preprocessed_octs\\control_6_left.pickle+C:\\Users\\line\\Desktop\\Mauro\\preprocessing\\preprocessed_octs\\control_6_right.pickle 17 4\n",
      "33 C:\\Users\\line\\Desktop\\Mauro\\preprocessing\\preprocessed_octs\\control_7_left.pickle+C:\\Users\\line\\Desktop\\Mauro\\preprocessing\\preprocessed_octs\\control_7_right.pickle 57 29\n",
      "35 C:\\Users\\line\\Desktop\\Mauro\\preprocessing\\preprocessed_octs\\control_8_left.pickle+C:\\Users\\line\\Desktop\\Mauro\\preprocessing\\preprocessed_octs\\control_8_right.pickle 8 9\n",
      "37 C:\\Users\\line\\Desktop\\Mauro\\preprocessing\\preprocessed_octs\\control_9_left.pickle+C:\\Users\\line\\Desktop\\Mauro\\preprocessing\\preprocessed_octs\\control_9_right.pickle 26 37\n",
      "the paths cntrl are: C:\\Users\\line\\Desktop\\Mauro\\preprocessing\\preprocessed_octs\\control_1_left.pickle+C:\\Users\\line\\Desktop\\Mauro\\preprocessing\\preprocessed_octs\\control_1_right.pickle with associated nocts[74, 29, 15, 13, 2, 42, 20, 22, 28, 21, 86, 14, 63], the paths amd are: with associated nocts[58, 48, 94, 104, 60, 19, 156]\n",
      "the rateos for control are [0.30310388513513514, 0.04660560344827587, 0.04939236111111111, 0.03776041666666667, 0.05924479166666667, 0.10109747023809526, 0.05078125, 0.047407670454545456, 0.09626116071428573, 0.09530009920634919, 0.13802083333333331, 0.05617559523809524, 0.1353546626984127] and for amd are [0.1896551724137931, 0.12754991319444445, 0.3049783909574468, 0.3205629006410256, 0.30755208333333334, 0.506373355263158, 0.5661475026709402]\n",
      "the pairs are for control [(60, 14), (16, 13), (8, 7), (5, 9), (0, 2), (15, 27), (10, 10), (10, 12), (15, 13), (17, 4), (57, 29), (7, 7), (26, 37)] , for AMD [(9, 49), (36, 12), (27, 67), (45, 59), (22, 38), (93, 63)]\n"
     ]
    }
   ],
   "source": [
    "def train_test_path_split(root_path,p = 0.8):\n",
    "    def keep_good_segmentation(PPocts,special = False):\n",
    "        \"Filter data to avoid the issue of wrong segmentation\"\n",
    "        filtered = []\n",
    "        for PPoct in PPocts:\n",
    "            if PPoct.image().shape[0] < 120:\n",
    "                filtered.append(PPoct)\n",
    "            elif special:\n",
    "                filtered.append(PPoct)      \n",
    "        return filtered\n",
    "\n",
    "       \n",
    "    paths =  glob.glob(os.path.join(root_path + '\\*.pickle'))\n",
    "    paths_amd = []\n",
    "    paths_control = []\n",
    "    num_amd = []\n",
    "    num_control = []\n",
    "    rateoAmd = []\n",
    "    rateoControl = []\n",
    "    total_amd = 0\n",
    "    total_control = 0\n",
    "    iterator = iter(range(0,len(paths)))\n",
    "    AMDtwoEyesSamePatient = []\n",
    "    CtrltwoEyesSamePatient = []\n",
    "\n",
    "    \n",
    "    for i in iterator:\n",
    "        group = paths[i].split(\"\\\\\").pop().split(\"_\")[0]\n",
    "        Id = paths[i].split(\"\\\\\").pop().split(\"_\")[1]\n",
    "        special = group != 'amd' and Id == '12'\n",
    "        # Check if the two next paths are of the same patient (left and right eye), if the case we treat them as one\n",
    "        two_eyes_same_patient = paths[i].split(\"\\\\\")[-1].split(\"_\")[:-1]==paths[i+1].split(\"\\\\\")[-1].split(\"_\")[:-1]\n",
    "        if(two_eyes_same_patient):\n",
    "            if group == 'amd':\n",
    "                AMDtwoEyesSamePatient.append((len(keep_good_segmentation(pd.read_pickle(paths[i]),special)),len(keep_good_segmentation(pd.read_pickle(paths[i + 1]),special))))\n",
    "            else:\n",
    "                CtrltwoEyesSamePatient.append((len(keep_good_segmentation(pd.read_pickle(paths[i]),special)),len(keep_good_segmentation(pd.read_pickle(paths[i + 1]),special))))\n",
    "            PPocts = keep_good_segmentation(pd.read_pickle(paths[i]) + pd.read_pickle(paths[i + 1]))\n",
    "            path = paths[i] + '+' + paths[i+1]\n",
    "            next(iterator, None)\n",
    "\n",
    "        else:\n",
    "            PPocts =keep_good_segmentation(pd.read_pickle(paths[i]))\n",
    "            path = paths[i]\n",
    "        print(i,path,len(pd.read_pickle(paths[i])),len(pd.read_pickle(paths[i + 1])) )\n",
    "        num_octs = len(PPocts)\n",
    "        rateos = [np.sum(PPoct.label())/(PPoct.label().shape[0]) for PPoct in PPocts]\n",
    "        rateo = np.mean(rateos)\n",
    "        if (group == 'amd'):\n",
    "            paths_amd.append(path)\n",
    "            num_amd.append(num_octs)\n",
    "            total_amd += num_octs\n",
    "            rateoAmd.append(rateo) \n",
    "        elif (group == 'control'):\n",
    "            paths_control.append(path)\n",
    "            num_control.append(num_octs)\n",
    "            total_control += num_octs\n",
    "            rateoControl.append(rateo) \n",
    "    print(f'the paths cntrl are: {paths_control[4]} with associated nocts{num_control}, the paths amd are: with associated nocts{num_amd}')\n",
    "    print(f'the rateos for control are {rateoControl} and for amd are {rateoAmd}')\n",
    "    print(f'the pairs are for control {CtrltwoEyesSamePatient} , for AMD {AMDtwoEyesSamePatient}')\n",
    "\n",
    "train_test_path_split(root_path,p = 0.8)"
   ]
  },
  {
   "cell_type": "code",
   "execution_count": 7,
   "id": "69b78661",
   "metadata": {},
   "outputs": [],
   "source": [
    "import os\n",
    "# We keep only 30 % of the original data but sample randomly from the oct scans to ensure more vairability\n",
    "# Let's create a dict with the numbers of imgs and the paths\n",
    "order = [0,10,11,12,1,2,3,4,5,6,7,8,9]\n",
    "basepath = r'C:\\Users\\line\\Desktop\\Mauro\\preprocessing\\preprocessed_octs'  # amd_0_left.pickle\n",
    "ctrlPairs = [(60, 14), (16, 13), (8, 7), (5, 9), (0, 2), (15, 27), (10, 10), (10, 12), (15, 13), (17, 4), (57, 29), (7, 7), (26, 37)]\n",
    "AMDPairs = [(9, 49), (36, 12), (27, 67), (45, 59), (22, 38), (93, 63)]\n",
    "\n",
    "ctrlPairs2 = [(7,7) if (pair[0] >6 and pair[1] > 6) else pair for pair in ctrlPairs]\n",
    "AMDPairs2 = [(7,7) if (pair[0] >6 and pair[1] > 6) else pair for pair in AMDPairs]\n",
    "#FIX PAIRS WHERE AT LEAST ONE IS SMALLER THAN 7\n",
    "# Patient control9 is 10,4 since has only 4 octs for the right eye\n",
    "ctrlPairs2[9] = (10,4)\n",
    "# Patient control2 is dropped since it only has 2 OCT scans\n",
    "ctrlPairs2[4] = (0,0)\n",
    "# Patient AMD5 has only left eye and was not present in the pairs\n",
    "AMDPairs2[5] = (14,0)\n",
    "AMDPairs2.append((7,7))\n",
    "\n",
    "#PathToNum = {path: value for (key, value) in iterable}\n",
    "ctrlPaths = [(os.path.join(basepath,'control_'+ str(i) +'_left.pickle'),\n",
    "              os.path.join(basepath,'control_'+ str(i) +'_right.pickle')) for i in order]\n",
    "AMDPaths = [(os.path.join(basepath,'amd_'+ str(i) +'_left.pickle'),\n",
    "              os.path.join(basepath,'amd_'+ str(i) +'_right.pickle')) for i in range(len(AMDPairs2))]"
   ]
  },
  {
   "cell_type": "code",
   "execution_count": 8,
   "id": "ff5703a1",
   "metadata": {
    "scrolled": true
   },
   "outputs": [
    {
     "name": "stdout",
     "output_type": "stream",
     "text": [
      "{'C:\\\\Users\\\\line\\\\Desktop\\\\Mauro\\\\preprocessing\\\\preprocessed_octs\\\\control_0_left.pickle': 7, 'C:\\\\Users\\\\line\\\\Desktop\\\\Mauro\\\\preprocessing\\\\preprocessed_octs\\\\control_10_left.pickle': 7, 'C:\\\\Users\\\\line\\\\Desktop\\\\Mauro\\\\preprocessing\\\\preprocessed_octs\\\\control_11_left.pickle': 7, 'C:\\\\Users\\\\line\\\\Desktop\\\\Mauro\\\\preprocessing\\\\preprocessed_octs\\\\control_12_left.pickle': 5, 'C:\\\\Users\\\\line\\\\Desktop\\\\Mauro\\\\preprocessing\\\\preprocessed_octs\\\\control_1_left.pickle': 0, 'C:\\\\Users\\\\line\\\\Desktop\\\\Mauro\\\\preprocessing\\\\preprocessed_octs\\\\control_2_left.pickle': 7, 'C:\\\\Users\\\\line\\\\Desktop\\\\Mauro\\\\preprocessing\\\\preprocessed_octs\\\\control_3_left.pickle': 7, 'C:\\\\Users\\\\line\\\\Desktop\\\\Mauro\\\\preprocessing\\\\preprocessed_octs\\\\control_4_left.pickle': 7, 'C:\\\\Users\\\\line\\\\Desktop\\\\Mauro\\\\preprocessing\\\\preprocessed_octs\\\\control_5_left.pickle': 7, 'C:\\\\Users\\\\line\\\\Desktop\\\\Mauro\\\\preprocessing\\\\preprocessed_octs\\\\control_6_left.pickle': 10, 'C:\\\\Users\\\\line\\\\Desktop\\\\Mauro\\\\preprocessing\\\\preprocessed_octs\\\\control_7_left.pickle': 7, 'C:\\\\Users\\\\line\\\\Desktop\\\\Mauro\\\\preprocessing\\\\preprocessed_octs\\\\control_8_left.pickle': 7, 'C:\\\\Users\\\\line\\\\Desktop\\\\Mauro\\\\preprocessing\\\\preprocessed_octs\\\\control_9_left.pickle': 7, 'C:\\\\Users\\\\line\\\\Desktop\\\\Mauro\\\\preprocessing\\\\preprocessed_octs\\\\control_0_right.pickle': 7, 'C:\\\\Users\\\\line\\\\Desktop\\\\Mauro\\\\preprocessing\\\\preprocessed_octs\\\\control_10_right.pickle': 7, 'C:\\\\Users\\\\line\\\\Desktop\\\\Mauro\\\\preprocessing\\\\preprocessed_octs\\\\control_11_right.pickle': 7, 'C:\\\\Users\\\\line\\\\Desktop\\\\Mauro\\\\preprocessing\\\\preprocessed_octs\\\\control_12_right.pickle': 9, 'C:\\\\Users\\\\line\\\\Desktop\\\\Mauro\\\\preprocessing\\\\preprocessed_octs\\\\control_1_right.pickle': 0, 'C:\\\\Users\\\\line\\\\Desktop\\\\Mauro\\\\preprocessing\\\\preprocessed_octs\\\\control_2_right.pickle': 7, 'C:\\\\Users\\\\line\\\\Desktop\\\\Mauro\\\\preprocessing\\\\preprocessed_octs\\\\control_3_right.pickle': 7, 'C:\\\\Users\\\\line\\\\Desktop\\\\Mauro\\\\preprocessing\\\\preprocessed_octs\\\\control_4_right.pickle': 7, 'C:\\\\Users\\\\line\\\\Desktop\\\\Mauro\\\\preprocessing\\\\preprocessed_octs\\\\control_5_right.pickle': 7, 'C:\\\\Users\\\\line\\\\Desktop\\\\Mauro\\\\preprocessing\\\\preprocessed_octs\\\\control_6_right.pickle': 4, 'C:\\\\Users\\\\line\\\\Desktop\\\\Mauro\\\\preprocessing\\\\preprocessed_octs\\\\control_7_right.pickle': 7, 'C:\\\\Users\\\\line\\\\Desktop\\\\Mauro\\\\preprocessing\\\\preprocessed_octs\\\\control_8_right.pickle': 7, 'C:\\\\Users\\\\line\\\\Desktop\\\\Mauro\\\\preprocessing\\\\preprocessed_octs\\\\control_9_right.pickle': 7}\n"
     ]
    }
   ],
   "source": [
    "dictLeftCtrl = {quad[0][0]:quad[1][0]  for quad in list(zip(ctrlPaths,ctrlPairs2))}   \n",
    "dictRightCtrl ={quad[0][1]:quad[1][1]  for quad in list(zip(ctrlPaths,ctrlPairs2))} \n",
    "dictCtrl = dictLeftCtrl | dictRightCtrl\n",
    "print(dictCtrl)"
   ]
  },
  {
   "cell_type": "code",
   "execution_count": 9,
   "id": "e549578a",
   "metadata": {},
   "outputs": [
    {
     "name": "stdout",
     "output_type": "stream",
     "text": [
      "{'C:\\\\Users\\\\line\\\\Desktop\\\\Mauro\\\\preprocessing\\\\preprocessed_octs\\\\amd_0_left.pickle': 7, 'C:\\\\Users\\\\line\\\\Desktop\\\\Mauro\\\\preprocessing\\\\preprocessed_octs\\\\amd_1_left.pickle': 7, 'C:\\\\Users\\\\line\\\\Desktop\\\\Mauro\\\\preprocessing\\\\preprocessed_octs\\\\amd_2_left.pickle': 7, 'C:\\\\Users\\\\line\\\\Desktop\\\\Mauro\\\\preprocessing\\\\preprocessed_octs\\\\amd_3_left.pickle': 7, 'C:\\\\Users\\\\line\\\\Desktop\\\\Mauro\\\\preprocessing\\\\preprocessed_octs\\\\amd_4_left.pickle': 7, 'C:\\\\Users\\\\line\\\\Desktop\\\\Mauro\\\\preprocessing\\\\preprocessed_octs\\\\amd_5_left.pickle': 14, 'C:\\\\Users\\\\line\\\\Desktop\\\\Mauro\\\\preprocessing\\\\preprocessed_octs\\\\amd_6_left.pickle': 7, 'C:\\\\Users\\\\line\\\\Desktop\\\\Mauro\\\\preprocessing\\\\preprocessed_octs\\\\amd_0_right.pickle': 7, 'C:\\\\Users\\\\line\\\\Desktop\\\\Mauro\\\\preprocessing\\\\preprocessed_octs\\\\amd_1_right.pickle': 7, 'C:\\\\Users\\\\line\\\\Desktop\\\\Mauro\\\\preprocessing\\\\preprocessed_octs\\\\amd_2_right.pickle': 7, 'C:\\\\Users\\\\line\\\\Desktop\\\\Mauro\\\\preprocessing\\\\preprocessed_octs\\\\amd_3_right.pickle': 7, 'C:\\\\Users\\\\line\\\\Desktop\\\\Mauro\\\\preprocessing\\\\preprocessed_octs\\\\amd_4_right.pickle': 7, 'C:\\\\Users\\\\line\\\\Desktop\\\\Mauro\\\\preprocessing\\\\preprocessed_octs\\\\amd_5_right.pickle': 0, 'C:\\\\Users\\\\line\\\\Desktop\\\\Mauro\\\\preprocessing\\\\preprocessed_octs\\\\amd_6_right.pickle': 7}\n"
     ]
    }
   ],
   "source": [
    "dictLeftAMD = {quad[0][0]:quad[1][0]  for quad in list(zip(AMDPaths,AMDPairs2))}   \n",
    "dictRightAMD ={quad[0][1]:quad[1][1]  for quad in list(zip(AMDPaths,AMDPairs2))} \n",
    "dictAMD = dictLeftAMD | dictRightAMD\n",
    "print(dictAMD)"
   ]
  },
  {
   "cell_type": "markdown",
   "id": "8751d232",
   "metadata": {},
   "source": [
    "In order to run the cell below:\n",
    "1) REMOVE 5_left.pickle from the amd folder\n",
    "2) uncomment and run the cell below\n",
    "3) Put amd back in the amd folder and add a copy named 5.pickle to the amdP folder"
   ]
  },
  {
   "cell_type": "code",
   "execution_count": 12,
   "id": "554441f7",
   "metadata": {},
   "outputs": [],
   "source": [
    "#Be carefull to amd 5 !!!\n",
    "# generation of the balance dataset:\n",
    "basepath = r'C:\\Users\\line\\Desktop\\Mauro\\3_DataSet\\OCT_balanced'\n",
    "inamd = os.path.join(basepath,'amd')\n",
    "outamd = os.path.join(basepath,'amdP')\n",
    "incontrol = os.path.join(basepath,'control')\n",
    "outcontrol = os.path.join(basepath,'controlP')\n",
    "\n",
    "def toSinglePatient(inpath,outpathbase):\n",
    "    paths =  glob.glob(os.path.join(inpath + '\\*.pickle'))\n",
    "\n",
    "    for i in range(0,len(paths),2):\n",
    "        path = paths[i]\n",
    "        nextpath = paths[i+1]\n",
    "        Id = os.path.split(path)[-1].split(\"_\")[0]\n",
    "        outpath = os.path.join(outpathbase,Id + '.pickle')\n",
    "        # Read content of the two files\n",
    "        PPocts = pd.read_pickle(path) + pd.read_pickle(nextpath)\n",
    "        #put into output file\n",
    "        with open(outpath, 'wb') as f:\n",
    "                pickle.dump(PPocts, f)\n",
    "                \n",
    "# BE CAREFUL TO AMD5 \n",
    "# toSinglePatient(inamd,outamd)\n",
    "# toSinglePatient(incontrol,outcontrol)"
   ]
  },
  {
   "cell_type": "markdown",
   "id": "225799dc",
   "metadata": {},
   "source": [
    "# Now we have our balanced - contribution dataset\n",
    "each folder is containing the data of a given user, hence we can cross validate on a patient level =)"
   ]
  },
  {
   "cell_type": "code",
   "execution_count": 4,
   "id": "0ebcdfe8",
   "metadata": {},
   "outputs": [],
   "source": [
    "# Creation of NP arrays X and y\n",
    "import cv2\n",
    "\n",
    "pathsamd = r'C:\\Users\\line\\Desktop\\Mauro\\3_DataSet\\OCT_balanced\\amdP'\n",
    "pathscontrol = r'C:\\Users\\line\\Desktop\\Mauro\\3_DataSet\\OCT_balanced\\controlP'\n",
    "def getXYdata(paths, mode,rootpath = None,normmode = 'Z-score'):\n",
    "    def normalize(img,normmode = 'Z-score'):\n",
    "        if normmode == 'Z-score':\n",
    "            img = dataset.z_score(img)\n",
    "        elif normmode == 'EQ-hist': \n",
    "            img = exposure.equalize_hist(img)\n",
    "        elif normmode == 'CLAHE':\n",
    "            #TO Implement normalization by zone\n",
    "            # Adaptive Equalization\n",
    "            img = exposure.equalize_adapthist(img/max((img.max(),-img.min())), clip_limit=0.03)            \n",
    "        return img\n",
    "    \n",
    "    def getxmin(rootpath):\n",
    "        themin = 100000\n",
    "        allpaths =  glob.glob(os.path.join(rootpath,'amdP' + '\\*.pickle')) + glob.glob(os.path.join(rootpath,'controlP' + '\\*.pickle'))\n",
    "        for path in allpaths:\n",
    "            PPocts = pd.read_pickle(path)\n",
    "            for PPoct in PPocts:\n",
    "                xnew = PPoct.image()\n",
    "                if(xnew.shape[0] < themin):\n",
    "                    themin = xnew.shape[0]\n",
    "        return themin\n",
    "    \n",
    "    if mode == 'thickness':\n",
    "        xmin = 5 \n",
    "    elif mode =='raw':\n",
    "        xmin = getxmin(rootpath)\n",
    "        \n",
    "    X = np.empty((0,xmin))\n",
    "    y = np.empty((0,))\n",
    "    \n",
    "    for path in paths:\n",
    "        PPocts = pd.read_pickle(path)\n",
    "        for PPoct in PPocts:\n",
    "            if mode == 'thickness':\n",
    "                xnew = np.transpose(PPoct.thicknesses())\n",
    "            elif mode == 'raw':\n",
    "                img =PPoct.image()\n",
    "                if img.shape[0] > 120:\n",
    "                    img = img[-100::,:]\n",
    "                    \n",
    "                xnew = np.transpose(normalize(img,normmode = normmode))\n",
    "                xnew = cv2.resize(xnew, dsize=(xmin,768 ))\n",
    "            ynew = PPoct.label()\n",
    "            #stack vertically the x and y\n",
    "            X = np.vstack((X,xnew))\n",
    "            y = np.hstack((y,ynew))        \n",
    "      \n",
    "    return X,y \n"
   ]
  },
  {
   "cell_type": "code",
   "execution_count": 14,
   "id": "4e2e4da7",
   "metadata": {},
   "outputs": [],
   "source": [
    "from sklearn.model_selection import KFold\n",
    "\n",
    "kf = KFold(n_splits=6, shuffle=False)"
   ]
  },
  {
   "cell_type": "code",
   "execution_count": 16,
   "id": "2d6c14bd",
   "metadata": {},
   "outputs": [
    {
     "name": "stdout",
     "output_type": "stream",
     "text": [
      "12\n",
      "14\n",
      "14\n",
      "14\n",
      "14\n",
      "14\n",
      "14\n",
      "14\n",
      "14\n",
      "14\n",
      "14\n",
      "14\n",
      "14\n"
     ]
    }
   ],
   "source": [
    "paths = glob.glob(os.path.join(rootpath,'controlP' + '\\*.pickle'))\n",
    "print(len(paths))\n",
    "for path in paths:\n",
    "    print(len(pd.read_pickle(path)))"
   ]
  },
  {
   "cell_type": "code",
   "execution_count": 18,
   "id": "ae6e0a57",
   "metadata": {},
   "outputs": [
    {
     "name": "stdout",
     "output_type": "stream",
     "text": [
      "6\n",
      "14\n",
      "14\n",
      "14\n",
      "14\n",
      "14\n",
      "14\n"
     ]
    }
   ],
   "source": [
    "paths = glob.glob(os.path.join(rootpath,'amdP' + '\\*.pickle'))\n",
    "print(len(paths))\n",
    "for path in paths:\n",
    "    print(len(pd.read_pickle(path)))"
   ]
  },
  {
   "cell_type": "code",
   "execution_count": 5,
   "id": "5c7c3833",
   "metadata": {},
   "outputs": [
    {
     "name": "stdout",
     "output_type": "stream",
     "text": [
      "['C:\\\\Users\\\\line\\\\Desktop\\\\Mauro\\\\3_DataSet\\\\OCT_balanced\\\\controlP\\\\0.pickle', 'C:\\\\Users\\\\line\\\\Desktop\\\\Mauro\\\\3_DataSet\\\\OCT_balanced\\\\controlP\\\\10.pickle', 'C:\\\\Users\\\\line\\\\Desktop\\\\Mauro\\\\3_DataSet\\\\OCT_balanced\\\\amdP\\\\0.pickle', 'C:\\\\Users\\\\line\\\\Desktop\\\\Mauro\\\\3_DataSet\\\\OCT_balanced\\\\controlP\\\\11.pickle', 'C:\\\\Users\\\\line\\\\Desktop\\\\Mauro\\\\3_DataSet\\\\OCT_balanced\\\\controlP\\\\12.pickle', 'C:\\\\Users\\\\line\\\\Desktop\\\\Mauro\\\\3_DataSet\\\\OCT_balanced\\\\amdP\\\\1.pickle', 'C:\\\\Users\\\\line\\\\Desktop\\\\Mauro\\\\3_DataSet\\\\OCT_balanced\\\\controlP\\\\2.pickle', 'C:\\\\Users\\\\line\\\\Desktop\\\\Mauro\\\\3_DataSet\\\\OCT_balanced\\\\controlP\\\\3.pickle', 'C:\\\\Users\\\\line\\\\Desktop\\\\Mauro\\\\3_DataSet\\\\OCT_balanced\\\\amdP\\\\2.pickle', 'C:\\\\Users\\\\line\\\\Desktop\\\\Mauro\\\\3_DataSet\\\\OCT_balanced\\\\controlP\\\\4.pickle', 'C:\\\\Users\\\\line\\\\Desktop\\\\Mauro\\\\3_DataSet\\\\OCT_balanced\\\\controlP\\\\5.pickle', 'C:\\\\Users\\\\line\\\\Desktop\\\\Mauro\\\\3_DataSet\\\\OCT_balanced\\\\amdP\\\\3.pickle', 'C:\\\\Users\\\\line\\\\Desktop\\\\Mauro\\\\3_DataSet\\\\OCT_balanced\\\\controlP\\\\6.pickle', 'C:\\\\Users\\\\line\\\\Desktop\\\\Mauro\\\\3_DataSet\\\\OCT_balanced\\\\controlP\\\\7.pickle', 'C:\\\\Users\\\\line\\\\Desktop\\\\Mauro\\\\3_DataSet\\\\OCT_balanced\\\\amdP\\\\5.pickle', 'C:\\\\Users\\\\line\\\\Desktop\\\\Mauro\\\\3_DataSet\\\\OCT_balanced\\\\controlP\\\\8.pickle', 'C:\\\\Users\\\\line\\\\Desktop\\\\Mauro\\\\3_DataSet\\\\OCT_balanced\\\\controlP\\\\9.pickle', 'C:\\\\Users\\\\line\\\\Desktop\\\\Mauro\\\\3_DataSet\\\\OCT_balanced\\\\amdP\\\\6.pickle']\n"
     ]
    }
   ],
   "source": [
    "rootpath = r'C:\\Users\\line\\Desktop\\Mauro\\3_DataSet\\OCT_balanced'\n",
    "paths = glob.glob(os.path.join(rootpath,'controlP' + '\\*.pickle'))\n",
    "paths2 = glob.glob(os.path.join(rootpath,'amdP' + '\\*.pickle'))\n",
    "merged = [[paths[2*i],paths[2*i+1],paths2[i]]  for i in range(len(paths2))]\n",
    "flattenedmerged = [item for sublist in merged for item in sublist]\n",
    "print(flattenedmerged)"
   ]
  },
  {
   "cell_type": "code",
   "execution_count": null,
   "id": "85d7e724",
   "metadata": {},
   "outputs": [],
   "source": [
    "flattenedmerged = ['C:\\\\Users\\\\line\\\\Desktop\\\\Mauro\\\\3_DataSet\\\\OCT_balanced\\\\controlP\\\\0.pickle', 'C:\\\\Users\\\\line\\\\Desktop\\\\Mauro\\\\3_DataSet\\\\OCT_balanced\\\\controlP\\\\10.pickle', 'C:\\\\Users\\\\line\\\\Desktop\\\\Mauro\\\\3_DataSet\\\\OCT_balanced\\\\amdP\\\\0.pickle', 'C:\\\\Users\\\\line\\\\Desktop\\\\Mauro\\\\3_DataSet\\\\OCT_balanced\\\\controlP\\\\11.pickle', 'C:\\\\Users\\\\line\\\\Desktop\\\\Mauro\\\\3_DataSet\\\\OCT_balanced\\\\controlP\\\\12.pickle', 'C:\\\\Users\\\\line\\\\Desktop\\\\Mauro\\\\3_DataSet\\\\OCT_balanced\\\\amdP\\\\1.pickle', 'C:\\\\Users\\\\line\\\\Desktop\\\\Mauro\\\\3_DataSet\\\\OCT_balanced\\\\controlP\\\\2.pickle', 'C:\\\\Users\\\\line\\\\Desktop\\\\Mauro\\\\3_DataSet\\\\OCT_balanced\\\\controlP\\\\3.pickle', 'C:\\\\Users\\\\line\\\\Desktop\\\\Mauro\\\\3_DataSet\\\\OCT_balanced\\\\amdP\\\\2.pickle', 'C:\\\\Users\\\\line\\\\Desktop\\\\Mauro\\\\3_DataSet\\\\OCT_balanced\\\\controlP\\\\4.pickle', 'C:\\\\Users\\\\line\\\\Desktop\\\\Mauro\\\\3_DataSet\\\\OCT_balanced\\\\controlP\\\\5.pickle', 'C:\\\\Users\\\\line\\\\Desktop\\\\Mauro\\\\3_DataSet\\\\OCT_balanced\\\\amdP\\\\3.pickle', 'C:\\\\Users\\\\line\\\\Desktop\\\\Mauro\\\\3_DataSet\\\\OCT_balanced\\\\controlP\\\\6.pickle', 'C:\\\\Users\\\\line\\\\Desktop\\\\Mauro\\\\3_DataSet\\\\OCT_balanced\\\\controlP\\\\7.pickle', 'C:\\\\Users\\\\line\\\\Desktop\\\\Mauro\\\\3_DataSet\\\\OCT_balanced\\\\amdP\\\\5.pickle', 'C:\\\\Users\\\\line\\\\Desktop\\\\Mauro\\\\3_DataSet\\\\OCT_balanced\\\\controlP\\\\8.pickle', 'C:\\\\Users\\\\line\\\\Desktop\\\\Mauro\\\\3_DataSet\\\\OCT_balanced\\\\controlP\\\\9.pickle', 'C:\\\\Users\\\\line\\\\Desktop\\\\Mauro\\\\3_DataSet\\\\OCT_balanced\\\\amdP\\\\6.pickle']"
   ]
  },
  {
   "cell_type": "code",
   "execution_count": 6,
   "id": "91ea21fe",
   "metadata": {},
   "outputs": [
    {
     "name": "stdout",
     "output_type": "stream",
     "text": [
      "(193536, 70)\n",
      "(193536,)\n",
      "193536\n"
     ]
    }
   ],
   "source": [
    "X,y = getXYdata(flattenedmerged, mode = 'raw',rootpath = rootpath,normmode = 'EQ-hist')\n",
    "print(X.shape)\n",
    "print(y.shape)\n",
    "print(768*14*18)"
   ]
  },
  {
   "cell_type": "markdown",
   "id": "78d5c41d",
   "metadata": {},
   "source": [
    "# WHAT IS IMPORTANT ABOUT THIS NOTEBOOK?\n",
    "\n",
    "* The dataset had unbalanced contributions (Some patients has many more OCT scans than other patiens)\n",
    "* The code of this notebook allows to select 14 OCT for each patient, 7 of each eye when it is possible\n",
    "* The resulting datatest selected can be found in C:\\Users\\line\\Desktop\\Mauro\\3_DataSet\\OCT_balanced\\amdP and C:\\Users\\line\\Desktop\\Mauro\\3_DataSet\\OCT_balanced\\controlP\n",
    "* You can simply create a dataset, composed of X,y numpy array by calling the getBalancedXYData function imported from buildDataset as shown below"
   ]
  },
  {
   "cell_type": "code",
   "execution_count": 4,
   "id": "8020f9cb",
   "metadata": {},
   "outputs": [
    {
     "name": "stdout",
     "output_type": "stream",
     "text": [
      "(193536, 5)\n",
      "(193536,)\n",
      "193536\n"
     ]
    }
   ],
   "source": [
    "X,y = getBalancedXYData(mode = 'thickness',normmode = '')\n",
    "print(X.shape)\n",
    "print(y.shape)\n",
    "print(768*14*18)"
   ]
  }
 ],
 "metadata": {
  "kernelspec": {
   "display_name": "Python (OCT)",
   "language": "python",
   "name": "oct"
  },
  "language_info": {
   "codemirror_mode": {
    "name": "ipython",
    "version": 3
   },
   "file_extension": ".py",
   "mimetype": "text/x-python",
   "name": "python",
   "nbconvert_exporter": "python",
   "pygments_lexer": "ipython3",
   "version": "3.9.13"
  }
 },
 "nbformat": 4,
 "nbformat_minor": 5
}
