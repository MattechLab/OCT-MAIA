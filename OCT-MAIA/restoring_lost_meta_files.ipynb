{
 "cells": [
  {
   "cell_type": "code",
   "execution_count": 36,
   "metadata": {},
   "outputs": [],
   "source": [
    "import os\n",
    "import dataset\n",
    "import pickle\n",
    "\n",
    "root_dir = '/chuvdatarc/ja8818/RAD/LINE/Benedetta_Franceschiello/5_OCTs_Jakub_Gwizdala/0_backup_folder_development/AMD/scans_for_segmentation'\n",
    "mappings_filepath = os.path.join(root_dir, 'filename_mappings.pickle')\n",
    "\n",
    "with open(mappings_filepath, 'rb') as mapping_file:\n",
    "    mapping = pickle.load(mapping_file)\n",
    "\n",
    "def file_id(filename):\n",
    "    try:\n",
    "        return int(filename[:-4])\n",
    "    except ValueError:\n",
    "        print(filename)\n",
    "        return None"
   ]
  },
  {
   "cell_type": "code",
   "execution_count": 37,
   "metadata": {},
   "outputs": [],
   "source": [
    "reverse_mapping = {}\n",
    "for key, oct_scan in mapping.items():\n",
    "    reverse_mapping[oct_scan.filename] = key"
   ]
  },
  {
   "cell_type": "code",
   "execution_count": 38,
   "metadata": {},
   "outputs": [],
   "source": [
    "from pathlib import Path"
   ]
  },
  {
   "cell_type": "code",
   "execution_count": 39,
   "metadata": {},
   "outputs": [],
   "source": [
    "segmented = []\n",
    "for person in ['Astrid', 'Benedetta']:\n",
    "    for group in dataset.GROUPS:\n",
    "        files = os.listdir(os.path.join(root_dir, person, group))\n",
    "        segmented += [(group, file_id(filename)) for filename in files]\n",
    "\n",
    "segmented_filepaths = {mapping[key].filename for key in segmented}\n",
    "\n",
    "with open(Path(DATASET['labelsPath']) / 'amd' / 'labelled_octs_v2.pickle', 'rb') as file:\n",
    "    amd_labelled_octs_v2 = pickle.load(file)\n",
    "with open(Path(DATASET['labelsPath']) / 'control' / 'labelled_octs_v2.pickle', 'rb') as file:\n",
    "    control_labelled_octs_v2 = pickle.load(file)\n",
    "    \n",
    "all_labelled_octs = amd_labelled_octs_v2 + control_labelled_octs_v2"
   ]
  },
  {
   "cell_type": "code",
   "execution_count": 40,
   "metadata": {},
   "outputs": [],
   "source": [
    "to_segment = []\n",
    "to_segment_ids = []\n",
    "for labelled_slice in all_labelled_octs:\n",
    "    filepath = labelled_slice.oct_scan.filename\n",
    "    if filepath not in segmented_filepaths:\n",
    "        to_segment.append(labelled_slice)\n",
    "        to_segment_ids.append(reverse_mapping.get(filepath, None))\n",
    "        \n",
    "\n",
    "import shutil\n",
    "from tqdm import tqdm"
   ]
  },
  {
   "cell_type": "code",
   "execution_count": 47,
   "metadata": {},
   "outputs": [
    {
     "name": "stderr",
     "output_type": "stream",
     "text": [
      "458it [00:00, 264417.24it/s]\n"
     ]
    }
   ],
   "source": [
    "destination = {\n",
    "    'amd': os.path.join(root_dir, 'Astrid2'),\n",
    "    'control': os.path.join(root_dir, 'me2')\n",
    "}\n",
    "\n",
    "v1_to_v2 = {}\n",
    "filename_mappings_v2 = {}\n",
    "for i, (labelled_oct, id) in enumerate(tqdm(zip(to_segment, to_segment_ids))):\n",
    "    name = f'{i}_v2'\n",
    "    filename = f'{name}.tif'\n",
    "    if id is not None:\n",
    "        v1_to_v2[f\"{id[0]}/{id[1]}.meta\"] = f\"{id[0]}/{name}.meta\"\n",
    "#     try:\n",
    "# #         shutil.copy2(labelled_oct.oct_scan.filename, os.path.join(destination[labelled_oct.group], filename))\n",
    "#         filename_mappings_v2[name] = labelled_oct\n",
    "#     except FileNotFoundError:\n",
    "#         tqdm.write(f'Missing {labelled_oct.oct_scan.filename}')"
   ]
  },
  {
   "cell_type": "code",
   "execution_count": 50,
   "metadata": {},
   "outputs": [],
   "source": [
    "with open('v1_to_v2.pickle', 'wb') as file:\n",
    "    pickle.dump(v1_to_v2, file)"
   ]
  },
  {
   "cell_type": "code",
   "execution_count": 48,
   "metadata": {},
   "outputs": [],
   "source": [
    "lost_meta_files = []\n",
    "with open('nonexistent_meta_files.pickle', 'rb') as file:\n",
    "    nonexistent_meta_files = pickle.load(file)\n",
    "for labelled_path, meta_filenames in nonexistent_meta_files:\n",
    "    lost_meta_files += meta_filenames"
   ]
  },
  {
   "cell_type": "code",
   "execution_count": 60,
   "metadata": {},
   "outputs": [
    {
     "name": "stdout",
     "output_type": "stream",
     "text": [
      "missing control/419.meta\n",
      "missing control/420.meta\n",
      "missing control/422.meta\n",
      "missing control/423.meta\n",
      "missing control/167.meta\n",
      "missing control/260.meta\n",
      "missing control/261.meta\n",
      "missing control/263.meta\n",
      "missing control/264.meta\n",
      "missing control/266.meta\n",
      "missing control/326.meta\n",
      "missing control/359.meta\n",
      "missing control/360.meta\n",
      "missing control/362.meta\n",
      "missing control/363.meta\n",
      "missing control/666.meta\n",
      "missing control/50.meta\n",
      "missing control/51.meta\n",
      "missing control/53.meta\n",
      "missing control/54.meta\n",
      "missing control/56.meta\n",
      "Restored 75 entries\n"
     ]
    }
   ],
   "source": [
    "lost_counter = 0\n",
    "for lost_meta_file in lost_meta_files:\n",
    "    if lost_meta_file in v1_to_v2:\n",
    "        lost_counter += 1\n",
    "    else:\n",
    "        print('missing', lost_meta_file)\n",
    "print(f'Restored {lost_counter} entries')"
   ]
  },
  {
   "cell_type": "code",
   "execution_count": 52,
   "metadata": {},
   "outputs": [],
   "source": [
    "fm_extended = '/chuvdatarc/ja8818/RAD/LINE/Benedetta_Franceschiello/5_OCTs_Jakub_Gwizdala/0_backup_folder_development/AMD/filename_to_meta_mapping_extended.pickle'"
   ]
  },
  {
   "cell_type": "code",
   "execution_count": 53,
   "metadata": {},
   "outputs": [],
   "source": [
    "with open(fm_extended, 'rb') as file:\n",
    "    fm_extended = pickle.load(file)"
   ]
  },
  {
   "cell_type": "code",
   "execution_count": 59,
   "metadata": {},
   "outputs": [
    {
     "name": "stdout",
     "output_type": "stream",
     "text": [
      "Added 78 entries\n"
     ]
    }
   ],
   "source": [
    "counter = 0\n",
    "fm_extended_and_restored = {}\n",
    "for filepath, meta_filepaths in fm_extended.items():\n",
    "    new_meta_filepaths = meta_filepaths.copy()\n",
    "    \n",
    "    # extend with restored v1 to v2 information\n",
    "    for meta_filepath in meta_filepaths:\n",
    "        if meta_filepath in v1_to_v2 and v1_to_v2[meta_filepath] not in meta_filepaths:\n",
    "            counter += 1\n",
    "            new_meta_filepaths.append(v1_to_v2[meta_filepath])\n",
    "    \n",
    "    fm_extended_and_restored[filepath] = new_meta_filepaths\n",
    "print(f'Added {counter} entries')"
   ]
  },
  {
   "cell_type": "code",
   "execution_count": 61,
   "metadata": {},
   "outputs": [],
   "source": [
    "fm_extended_and_restored_path = '/chuvdatarc/ja8818/RAD/LINE/Benedetta_Franceschiello/5_OCTs_Jakub_Gwizdala/0_backup_folder_development/AMD/filename_to_meta_mapping_extended_and_restored.pickle'\n",
    "with open(fm_extended_and_restored_path, 'wb') as file:\n",
    "    pickle.dump(fm_extended_and_restored, file)"
   ]
  }
 ],
 "metadata": {
  "kernelspec": {
   "display_name": "Python 3",
   "language": "python",
   "name": "python3"
  },
  "language_info": {
   "codemirror_mode": {
    "name": "ipython",
    "version": 3
   },
   "file_extension": ".py",
   "mimetype": "text/x-python",
   "name": "python",
   "nbconvert_exporter": "python",
   "pygments_lexer": "ipython3",
   "version": "3.8.5"
  }
 },
 "nbformat": 4,
 "nbformat_minor": 5
}
