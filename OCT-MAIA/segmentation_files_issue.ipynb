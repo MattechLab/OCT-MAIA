{
 "cells": [
  {
   "cell_type": "code",
   "execution_count": 1,
   "metadata": {},
   "outputs": [],
   "source": [
    "import pickle\n",
    "import os"
   ]
  },
  {
   "cell_type": "code",
   "execution_count": 2,
   "metadata": {},
   "outputs": [],
   "source": [
    "missing_mappings_path = 'missing_mappings.pickle'\n",
    "nonexistent_meta_files_path = 'nonexistent_meta_files.pickle'"
   ]
  },
  {
   "cell_type": "code",
   "execution_count": 3,
   "metadata": {},
   "outputs": [],
   "source": [
    "with open(missing_mappings_path, 'rb') as file:\n",
    "    missing_mappings = pickle.load(file)\n"
   ]
  },
  {
   "cell_type": "code",
   "execution_count": 4,
   "metadata": {},
   "outputs": [
    {
     "name": "stdout",
     "output_type": "stream",
     "text": [
      "control/spectralis/oct/cap_left_center/5D173190.tif []\n",
      "control/spectralis/oct/pem_left_center/8C429C90.tif []\n",
      "control/spectralis/oct/wia_left_center/40ACCC20.tif []\n",
      "amd/spectralis/oct/caj_right_up/97079FA0.tif []\n",
      "amd/spectralis/oct/caj_right_center/A5D3C540.tif []\n",
      "control/spectralis/oct/brd_right_up/276ECA50.tif []\n",
      "control/spectralis/oct/cap_right_center/6E0CE360.tif []\n",
      "control/spectralis/oct/cap_right_center/6E226730.tif []\n",
      "control/spectralis/oct/cap_right_center/6E357A00.tif []\n",
      "control/spectralis/oct/moe_right_up/765BC830.tif []\n",
      "control/spectralis/oct/moe_right_center/A3F16610.tif []\n",
      "control/spectralis/oct/pem_right_center/201AC6A0.tif []\n",
      "amd/spectralis/oct/imc_left_center/F876CA70.tif []\n",
      "control/spectralis/oct/gec_left_center/3EEE8C40.tif []\n",
      "amd/spectralis/oct/gaj_right_up/1457880.tif []\n",
      "amd/spectralis/oct/wim_right_center/1CF53E0.tif []\n",
      "control/spectralis/oct/gec_right_up/B522AB40.tif []\n",
      "control/spectralis/oct/bas_right_center/3D5755F0.tif []\n",
      "control/spectralis/oct/bas_right_center/3D769DC0.tif []\n",
      "control/spectralis/oct/bas_right_center/3D898980.tif []\n",
      "control/spectralis/oct/bas_right_center/3DA3A130.tif []\n",
      "control/spectralis/oct/bas_right_center/3DB44300.tif []\n",
      "control/spectralis/oct/bas_right_center/3DC9C6D0.tif []\n",
      "control/spectralis/oct/bas_right_center/3DDF4AA0.tif []\n"
     ]
    }
   ],
   "source": [
    "for labelled_path, meta_filenames in missing_mappings:\n",
    "    print(labelled_path, meta_filenames)"
   ]
  },
  {
   "cell_type": "code",
   "execution_count": 5,
   "metadata": {},
   "outputs": [],
   "source": [
    "lost_meta_files = []\n",
    "with open(nonexistent_meta_files_path, 'rb') as file:\n",
    "    nonexistent_meta_files = pickle.load(file)\n",
    "for labelled_path, meta_filenames in nonexistent_meta_files:\n",
    "#     print(labelled_path, meta_filenames)\n",
    "    lost_meta_files += meta_filenames"
   ]
  },
  {
   "cell_type": "code",
   "execution_count": 6,
   "metadata": {},
   "outputs": [
    {
     "data": {
      "text/plain": [
       "['control/419.meta',\n",
       " 'control/420.meta',\n",
       " 'control/422.meta',\n",
       " 'control/423.meta',\n",
       " 'control/608.meta',\n",
       " 'control/609.meta',\n",
       " 'control/611.meta',\n",
       " 'control/612.meta',\n",
       " 'control/614.meta',\n",
       " 'control/615.meta',\n",
       " 'control/617.meta',\n",
       " 'control/618.meta',\n",
       " 'control/620.meta',\n",
       " 'control/621.meta',\n",
       " 'control/623.meta',\n",
       " 'control/624.meta',\n",
       " 'control/626.meta',\n",
       " 'control/627.meta',\n",
       " 'control/629.meta',\n",
       " 'control/630.meta',\n",
       " 'control/632.meta',\n",
       " 'control/633.meta',\n",
       " 'control/701.meta',\n",
       " 'control/702.meta',\n",
       " 'control/704.meta',\n",
       " 'control/705.meta',\n",
       " 'control/707.meta',\n",
       " 'control/728.meta',\n",
       " 'control/729.meta',\n",
       " 'control/731.meta',\n",
       " 'control/167.meta',\n",
       " 'control/260.meta',\n",
       " 'control/261.meta',\n",
       " 'control/263.meta',\n",
       " 'control/264.meta',\n",
       " 'control/266.meta',\n",
       " 'control/326.meta',\n",
       " 'control/359.meta',\n",
       " 'control/360.meta',\n",
       " 'control/362.meta',\n",
       " 'control/363.meta',\n",
       " 'control/566.meta',\n",
       " 'control/569.meta',\n",
       " 'control/572.meta',\n",
       " 'control/575.meta',\n",
       " 'control/578.meta',\n",
       " 'control/581.meta',\n",
       " 'control/584.meta',\n",
       " 'control/587.meta',\n",
       " 'control/590.meta',\n",
       " 'control/593.meta',\n",
       " 'control/596.meta',\n",
       " 'control/597.meta',\n",
       " 'control/599.meta',\n",
       " 'control/692.meta',\n",
       " 'control/693.meta',\n",
       " 'control/695.meta',\n",
       " 'control/696.meta',\n",
       " 'control/710.meta',\n",
       " 'control/711.meta',\n",
       " 'control/713.meta',\n",
       " 'control/714.meta',\n",
       " 'control/716.meta',\n",
       " 'amd/610.meta',\n",
       " 'amd/620.meta',\n",
       " 'amd/621.meta',\n",
       " 'amd/622.meta',\n",
       " 'amd/623.meta',\n",
       " 'amd/624.meta',\n",
       " 'amd/634.meta',\n",
       " 'control/671.meta',\n",
       " 'control/672.meta',\n",
       " 'control/674.meta',\n",
       " 'control/675.meta',\n",
       " 'control/677.meta',\n",
       " 'control/678.meta',\n",
       " 'control/680.meta',\n",
       " 'control/681.meta',\n",
       " 'control/683.meta',\n",
       " 'control/684.meta',\n",
       " 'control/686.meta',\n",
       " 'control/653.meta',\n",
       " 'control/654.meta',\n",
       " 'control/656.meta',\n",
       " 'control/657.meta',\n",
       " 'control/659.meta',\n",
       " 'control/660.meta',\n",
       " 'control/662.meta',\n",
       " 'control/663.meta',\n",
       " 'control/665.meta',\n",
       " 'control/666.meta',\n",
       " 'control/50.meta',\n",
       " 'control/51.meta',\n",
       " 'control/53.meta',\n",
       " 'control/54.meta',\n",
       " 'control/56.meta']"
      ]
     },
     "execution_count": 6,
     "metadata": {},
     "output_type": "execute_result"
    }
   ],
   "source": [
    "lost_meta_files"
   ]
  },
  {
   "cell_type": "code",
   "execution_count": 7,
   "metadata": {},
   "outputs": [],
   "source": [
    "# from pathlib import Path\n",
    "# from tqdm import tqdm\n",
    "\n",
    "# root_search_path = Path('/chuvdatarc/ja8818/RAD/LINE/Benedetta_Franceschiello/5_OCTs_Jakub_Gwizdala')\n",
    "# candidates = {}\n",
    "# for lost_file in tqdm(lost_meta_files):\n",
    "#     candidates[lost_file] = list(root_search_path.glob(f'**/{lost_file}'))\n",
    "\n",
    "# with open('lost_meta_files_candidates.pickle', 'wb') as file:\n",
    "#     pickle.dump(candidates, file)"
   ]
  },
  {
   "cell_type": "code",
   "execution_count": 8,
   "metadata": {},
   "outputs": [],
   "source": [
    "with open('lost_meta_files_candidates.pickle', 'rb') as file:\n",
    "    candidates = pickle.load(file)"
   ]
  },
  {
   "cell_type": "code",
   "execution_count": 9,
   "metadata": {},
   "outputs": [
    {
     "data": {
      "text/plain": [
       "{'control/419.meta': [PosixPath('/chuvdatarc/ja8818/RAD/LINE/Benedetta_Franceschiello/5_OCTs_Jakub_Gwizdala/0_backup_folder_development/AMD/scans_for_segmentation/me/control/419.meta')],\n",
       " 'control/420.meta': [PosixPath('/chuvdatarc/ja8818/RAD/LINE/Benedetta_Franceschiello/5_OCTs_Jakub_Gwizdala/1_OCT_Dataset/1_Segmented_OCTs/_OCTs_Discarded_to_avoid_overlap_segmented_NOT_CHECKED/control/420.meta')],\n",
       " 'control/422.meta': [PosixPath('/chuvdatarc/ja8818/RAD/LINE/Benedetta_Franceschiello/5_OCTs_Jakub_Gwizdala/0_backup_folder_development/AMD/scans_for_segmentation/me/control/422.meta')],\n",
       " 'control/423.meta': [PosixPath('/chuvdatarc/ja8818/RAD/LINE/Benedetta_Franceschiello/5_OCTs_Jakub_Gwizdala/1_OCT_Dataset/1_Segmented_OCTs/_OCTs_Discarded_to_avoid_overlap_segmented_NOT_CHECKED/control/423.meta')],\n",
       " 'control/608.meta': [PosixPath('/chuvdatarc/ja8818/RAD/LINE/Benedetta_Franceschiello/5_OCTs_Jakub_Gwizdala/0_backup_folder_development/AMD/scans_for_segmentation/me/control/608.meta')],\n",
       " 'control/609.meta': [PosixPath('/chuvdatarc/ja8818/RAD/LINE/Benedetta_Franceschiello/5_OCTs_Jakub_Gwizdala/0_backup_folder_development/AMD/scans_for_segmentation/me/control/609.meta')],\n",
       " 'control/611.meta': [PosixPath('/chuvdatarc/ja8818/RAD/LINE/Benedetta_Franceschiello/5_OCTs_Jakub_Gwizdala/0_backup_folder_development/AMD/scans_for_segmentation/me/control/611.meta')],\n",
       " 'control/612.meta': [PosixPath('/chuvdatarc/ja8818/RAD/LINE/Benedetta_Franceschiello/5_OCTs_Jakub_Gwizdala/0_backup_folder_development/AMD/scans_for_segmentation/me/control/612.meta')],\n",
       " 'control/614.meta': [PosixPath('/chuvdatarc/ja8818/RAD/LINE/Benedetta_Franceschiello/5_OCTs_Jakub_Gwizdala/0_backup_folder_development/AMD/scans_for_segmentation/me/control/614.meta')],\n",
       " 'control/615.meta': [PosixPath('/chuvdatarc/ja8818/RAD/LINE/Benedetta_Franceschiello/5_OCTs_Jakub_Gwizdala/0_backup_folder_development/AMD/scans_for_segmentation/me/control/615.meta')],\n",
       " 'control/617.meta': [PosixPath('/chuvdatarc/ja8818/RAD/LINE/Benedetta_Franceschiello/5_OCTs_Jakub_Gwizdala/0_backup_folder_development/AMD/scans_for_segmentation/me/control/617.meta')],\n",
       " 'control/618.meta': [PosixPath('/chuvdatarc/ja8818/RAD/LINE/Benedetta_Franceschiello/5_OCTs_Jakub_Gwizdala/0_backup_folder_development/AMD/scans_for_segmentation/me/control/618.meta')],\n",
       " 'control/620.meta': [PosixPath('/chuvdatarc/ja8818/RAD/LINE/Benedetta_Franceschiello/5_OCTs_Jakub_Gwizdala/0_backup_folder_development/AMD/scans_for_segmentation/me/control/620.meta')],\n",
       " 'control/621.meta': [PosixPath('/chuvdatarc/ja8818/RAD/LINE/Benedetta_Franceschiello/5_OCTs_Jakub_Gwizdala/0_backup_folder_development/AMD/scans_for_segmentation/me/control/621.meta')],\n",
       " 'control/623.meta': [PosixPath('/chuvdatarc/ja8818/RAD/LINE/Benedetta_Franceschiello/5_OCTs_Jakub_Gwizdala/0_backup_folder_development/AMD/scans_for_segmentation/me/control/623.meta')],\n",
       " 'control/624.meta': [PosixPath('/chuvdatarc/ja8818/RAD/LINE/Benedetta_Franceschiello/5_OCTs_Jakub_Gwizdala/0_backup_folder_development/AMD/scans_for_segmentation/me/control/624.meta')],\n",
       " 'control/626.meta': [PosixPath('/chuvdatarc/ja8818/RAD/LINE/Benedetta_Franceschiello/5_OCTs_Jakub_Gwizdala/0_backup_folder_development/AMD/scans_for_segmentation/me/control/626.meta')],\n",
       " 'control/627.meta': [PosixPath('/chuvdatarc/ja8818/RAD/LINE/Benedetta_Franceschiello/5_OCTs_Jakub_Gwizdala/0_backup_folder_development/AMD/scans_for_segmentation/me/control/627.meta')],\n",
       " 'control/629.meta': [PosixPath('/chuvdatarc/ja8818/RAD/LINE/Benedetta_Franceschiello/5_OCTs_Jakub_Gwizdala/0_backup_folder_development/AMD/scans_for_segmentation/me/control/629.meta')],\n",
       " 'control/630.meta': [PosixPath('/chuvdatarc/ja8818/RAD/LINE/Benedetta_Franceschiello/5_OCTs_Jakub_Gwizdala/0_backup_folder_development/AMD/scans_for_segmentation/me/control/630.meta')],\n",
       " 'control/632.meta': [PosixPath('/chuvdatarc/ja8818/RAD/LINE/Benedetta_Franceschiello/5_OCTs_Jakub_Gwizdala/0_backup_folder_development/AMD/scans_for_segmentation/me/control/632.meta')],\n",
       " 'control/633.meta': [PosixPath('/chuvdatarc/ja8818/RAD/LINE/Benedetta_Franceschiello/5_OCTs_Jakub_Gwizdala/0_backup_folder_development/AMD/scans_for_segmentation/me/control/633.meta')],\n",
       " 'control/701.meta': [PosixPath('/chuvdatarc/ja8818/RAD/LINE/Benedetta_Franceschiello/5_OCTs_Jakub_Gwizdala/0_backup_folder_development/AMD/scans_for_segmentation/me/control/701.meta')],\n",
       " 'control/702.meta': [PosixPath('/chuvdatarc/ja8818/RAD/LINE/Benedetta_Franceschiello/5_OCTs_Jakub_Gwizdala/0_backup_folder_development/AMD/scans_for_segmentation/me/control/702.meta')],\n",
       " 'control/704.meta': [PosixPath('/chuvdatarc/ja8818/RAD/LINE/Benedetta_Franceschiello/5_OCTs_Jakub_Gwizdala/0_backup_folder_development/AMD/scans_for_segmentation/me/control/704.meta')],\n",
       " 'control/705.meta': [PosixPath('/chuvdatarc/ja8818/RAD/LINE/Benedetta_Franceschiello/5_OCTs_Jakub_Gwizdala/0_backup_folder_development/AMD/scans_for_segmentation/me/control/705.meta')],\n",
       " 'control/707.meta': [PosixPath('/chuvdatarc/ja8818/RAD/LINE/Benedetta_Franceschiello/5_OCTs_Jakub_Gwizdala/0_backup_folder_development/AMD/scans_for_segmentation/me/control/707.meta')],\n",
       " 'control/728.meta': [PosixPath('/chuvdatarc/ja8818/RAD/LINE/Benedetta_Franceschiello/5_OCTs_Jakub_Gwizdala/0_backup_folder_development/AMD/scans_for_segmentation/me/control/728.meta')],\n",
       " 'control/729.meta': [PosixPath('/chuvdatarc/ja8818/RAD/LINE/Benedetta_Franceschiello/5_OCTs_Jakub_Gwizdala/0_backup_folder_development/AMD/scans_for_segmentation/me/control/729.meta')],\n",
       " 'control/731.meta': [PosixPath('/chuvdatarc/ja8818/RAD/LINE/Benedetta_Franceschiello/5_OCTs_Jakub_Gwizdala/0_backup_folder_development/AMD/scans_for_segmentation/me/control/731.meta')],\n",
       " 'control/167.meta': [PosixPath('/chuvdatarc/ja8818/RAD/LINE/Benedetta_Franceschiello/5_OCTs_Jakub_Gwizdala/0_backup_folder_development/AMD/scans_for_segmentation/me/control/167.meta')],\n",
       " 'control/260.meta': [PosixPath('/chuvdatarc/ja8818/RAD/LINE/Benedetta_Franceschiello/5_OCTs_Jakub_Gwizdala/0_backup_folder_development/AMD/scans_for_segmentation/me/control/260.meta')],\n",
       " 'control/261.meta': [PosixPath('/chuvdatarc/ja8818/RAD/LINE/Benedetta_Franceschiello/5_OCTs_Jakub_Gwizdala/1_OCT_Dataset/1_Segmented_OCTs/_OCTs_Discarded_to_avoid_overlap_segmented_NOT_CHECKED/control/261.meta')],\n",
       " 'control/263.meta': [PosixPath('/chuvdatarc/ja8818/RAD/LINE/Benedetta_Franceschiello/5_OCTs_Jakub_Gwizdala/0_backup_folder_development/AMD/scans_for_segmentation/me/control/263.meta')],\n",
       " 'control/264.meta': [PosixPath('/chuvdatarc/ja8818/RAD/LINE/Benedetta_Franceschiello/5_OCTs_Jakub_Gwizdala/1_OCT_Dataset/1_Segmented_OCTs/_OCTs_Discarded_to_avoid_overlap_segmented_NOT_CHECKED/control/264.meta')],\n",
       " 'control/266.meta': [PosixPath('/chuvdatarc/ja8818/RAD/LINE/Benedetta_Franceschiello/5_OCTs_Jakub_Gwizdala/0_backup_folder_development/AMD/scans_for_segmentation/me/control/266.meta')],\n",
       " 'control/326.meta': [PosixPath('/chuvdatarc/ja8818/RAD/LINE/Benedetta_Franceschiello/5_OCTs_Jakub_Gwizdala/0_backup_folder_development/AMD/scans_for_segmentation/me/control/326.meta')],\n",
       " 'control/359.meta': [PosixPath('/chuvdatarc/ja8818/RAD/LINE/Benedetta_Franceschiello/5_OCTs_Jakub_Gwizdala/0_backup_folder_development/AMD/scans_for_segmentation/me/control/359.meta')],\n",
       " 'control/360.meta': [PosixPath('/chuvdatarc/ja8818/RAD/LINE/Benedetta_Franceschiello/5_OCTs_Jakub_Gwizdala/1_OCT_Dataset/1_Segmented_OCTs/_OCTs_Discarded_to_avoid_overlap_segmented_NOT_CHECKED/control/360.meta')],\n",
       " 'control/362.meta': [PosixPath('/chuvdatarc/ja8818/RAD/LINE/Benedetta_Franceschiello/5_OCTs_Jakub_Gwizdala/0_backup_folder_development/AMD/scans_for_segmentation/me/control/362.meta')],\n",
       " 'control/363.meta': [PosixPath('/chuvdatarc/ja8818/RAD/LINE/Benedetta_Franceschiello/5_OCTs_Jakub_Gwizdala/1_OCT_Dataset/1_Segmented_OCTs/_OCTs_Discarded_to_avoid_overlap_segmented_NOT_CHECKED/control/363.meta')],\n",
       " 'control/566.meta': [PosixPath('/chuvdatarc/ja8818/RAD/LINE/Benedetta_Franceschiello/5_OCTs_Jakub_Gwizdala/0_backup_folder_development/AMD/scans_for_segmentation/me/control/566.meta')],\n",
       " 'control/569.meta': [PosixPath('/chuvdatarc/ja8818/RAD/LINE/Benedetta_Franceschiello/5_OCTs_Jakub_Gwizdala/0_backup_folder_development/AMD/scans_for_segmentation/me/control/569.meta')],\n",
       " 'control/572.meta': [PosixPath('/chuvdatarc/ja8818/RAD/LINE/Benedetta_Franceschiello/5_OCTs_Jakub_Gwizdala/0_backup_folder_development/AMD/scans_for_segmentation/me/control/572.meta')],\n",
       " 'control/575.meta': [PosixPath('/chuvdatarc/ja8818/RAD/LINE/Benedetta_Franceschiello/5_OCTs_Jakub_Gwizdala/0_backup_folder_development/AMD/scans_for_segmentation/me/control/575.meta')],\n",
       " 'control/578.meta': [PosixPath('/chuvdatarc/ja8818/RAD/LINE/Benedetta_Franceschiello/5_OCTs_Jakub_Gwizdala/0_backup_folder_development/AMD/scans_for_segmentation/me/control/578.meta')],\n",
       " 'control/581.meta': [PosixPath('/chuvdatarc/ja8818/RAD/LINE/Benedetta_Franceschiello/5_OCTs_Jakub_Gwizdala/0_backup_folder_development/AMD/scans_for_segmentation/me/control/581.meta')],\n",
       " 'control/584.meta': [PosixPath('/chuvdatarc/ja8818/RAD/LINE/Benedetta_Franceschiello/5_OCTs_Jakub_Gwizdala/0_backup_folder_development/AMD/scans_for_segmentation/me/control/584.meta')],\n",
       " 'control/587.meta': [PosixPath('/chuvdatarc/ja8818/RAD/LINE/Benedetta_Franceschiello/5_OCTs_Jakub_Gwizdala/0_backup_folder_development/AMD/scans_for_segmentation/me/control/587.meta')],\n",
       " 'control/590.meta': [PosixPath('/chuvdatarc/ja8818/RAD/LINE/Benedetta_Franceschiello/5_OCTs_Jakub_Gwizdala/0_backup_folder_development/AMD/scans_for_segmentation/me/control/590.meta')],\n",
       " 'control/593.meta': [PosixPath('/chuvdatarc/ja8818/RAD/LINE/Benedetta_Franceschiello/5_OCTs_Jakub_Gwizdala/0_backup_folder_development/AMD/scans_for_segmentation/me/control/593.meta')],\n",
       " 'control/596.meta': [PosixPath('/chuvdatarc/ja8818/RAD/LINE/Benedetta_Franceschiello/5_OCTs_Jakub_Gwizdala/0_backup_folder_development/AMD/scans_for_segmentation/me/control/596.meta')],\n",
       " 'control/597.meta': [PosixPath('/chuvdatarc/ja8818/RAD/LINE/Benedetta_Franceschiello/5_OCTs_Jakub_Gwizdala/0_backup_folder_development/AMD/scans_for_segmentation/me/control/597.meta')],\n",
       " 'control/599.meta': [PosixPath('/chuvdatarc/ja8818/RAD/LINE/Benedetta_Franceschiello/5_OCTs_Jakub_Gwizdala/0_backup_folder_development/AMD/scans_for_segmentation/me/control/599.meta')],\n",
       " 'control/692.meta': [PosixPath('/chuvdatarc/ja8818/RAD/LINE/Benedetta_Franceschiello/5_OCTs_Jakub_Gwizdala/0_backup_folder_development/AMD/scans_for_segmentation/me/control/692.meta')],\n",
       " 'control/693.meta': [PosixPath('/chuvdatarc/ja8818/RAD/LINE/Benedetta_Franceschiello/5_OCTs_Jakub_Gwizdala/0_backup_folder_development/AMD/scans_for_segmentation/me/control/693.meta')],\n",
       " 'control/695.meta': [PosixPath('/chuvdatarc/ja8818/RAD/LINE/Benedetta_Franceschiello/5_OCTs_Jakub_Gwizdala/0_backup_folder_development/AMD/scans_for_segmentation/me/control/695.meta')],\n",
       " 'control/696.meta': [PosixPath('/chuvdatarc/ja8818/RAD/LINE/Benedetta_Franceschiello/5_OCTs_Jakub_Gwizdala/0_backup_folder_development/AMD/scans_for_segmentation/me/control/696.meta')],\n",
       " 'control/710.meta': [PosixPath('/chuvdatarc/ja8818/RAD/LINE/Benedetta_Franceschiello/5_OCTs_Jakub_Gwizdala/0_backup_folder_development/AMD/scans_for_segmentation/me/control/710.meta')],\n",
       " 'control/711.meta': [PosixPath('/chuvdatarc/ja8818/RAD/LINE/Benedetta_Franceschiello/5_OCTs_Jakub_Gwizdala/0_backup_folder_development/AMD/scans_for_segmentation/me/control/711.meta')],\n",
       " 'control/713.meta': [PosixPath('/chuvdatarc/ja8818/RAD/LINE/Benedetta_Franceschiello/5_OCTs_Jakub_Gwizdala/0_backup_folder_development/AMD/scans_for_segmentation/me/control/713.meta')],\n",
       " 'control/714.meta': [PosixPath('/chuvdatarc/ja8818/RAD/LINE/Benedetta_Franceschiello/5_OCTs_Jakub_Gwizdala/0_backup_folder_development/AMD/scans_for_segmentation/me/control/714.meta')],\n",
       " 'control/716.meta': [PosixPath('/chuvdatarc/ja8818/RAD/LINE/Benedetta_Franceschiello/5_OCTs_Jakub_Gwizdala/0_backup_folder_development/AMD/scans_for_segmentation/me/control/716.meta')],\n",
       " 'amd/610.meta': [],\n",
       " 'amd/620.meta': [],\n",
       " 'amd/621.meta': [],\n",
       " 'amd/622.meta': [],\n",
       " 'amd/623.meta': [],\n",
       " 'amd/624.meta': [],\n",
       " 'amd/634.meta': [],\n",
       " 'control/671.meta': [PosixPath('/chuvdatarc/ja8818/RAD/LINE/Benedetta_Franceschiello/5_OCTs_Jakub_Gwizdala/0_backup_folder_development/AMD/scans_for_segmentation/me/control/671.meta')],\n",
       " 'control/672.meta': [PosixPath('/chuvdatarc/ja8818/RAD/LINE/Benedetta_Franceschiello/5_OCTs_Jakub_Gwizdala/0_backup_folder_development/AMD/scans_for_segmentation/me/control/672.meta')],\n",
       " 'control/674.meta': [PosixPath('/chuvdatarc/ja8818/RAD/LINE/Benedetta_Franceschiello/5_OCTs_Jakub_Gwizdala/0_backup_folder_development/AMD/scans_for_segmentation/me/control/674.meta')],\n",
       " 'control/675.meta': [PosixPath('/chuvdatarc/ja8818/RAD/LINE/Benedetta_Franceschiello/5_OCTs_Jakub_Gwizdala/0_backup_folder_development/AMD/scans_for_segmentation/me/control/675.meta')],\n",
       " 'control/677.meta': [PosixPath('/chuvdatarc/ja8818/RAD/LINE/Benedetta_Franceschiello/5_OCTs_Jakub_Gwizdala/0_backup_folder_development/AMD/scans_for_segmentation/me/control/677.meta')],\n",
       " 'control/678.meta': [PosixPath('/chuvdatarc/ja8818/RAD/LINE/Benedetta_Franceschiello/5_OCTs_Jakub_Gwizdala/0_backup_folder_development/AMD/scans_for_segmentation/me/control/678.meta')],\n",
       " 'control/680.meta': [PosixPath('/chuvdatarc/ja8818/RAD/LINE/Benedetta_Franceschiello/5_OCTs_Jakub_Gwizdala/0_backup_folder_development/AMD/scans_for_segmentation/me/control/680.meta')],\n",
       " 'control/681.meta': [PosixPath('/chuvdatarc/ja8818/RAD/LINE/Benedetta_Franceschiello/5_OCTs_Jakub_Gwizdala/0_backup_folder_development/AMD/scans_for_segmentation/me/control/681.meta')],\n",
       " 'control/683.meta': [PosixPath('/chuvdatarc/ja8818/RAD/LINE/Benedetta_Franceschiello/5_OCTs_Jakub_Gwizdala/0_backup_folder_development/AMD/scans_for_segmentation/me/control/683.meta')],\n",
       " 'control/684.meta': [PosixPath('/chuvdatarc/ja8818/RAD/LINE/Benedetta_Franceschiello/5_OCTs_Jakub_Gwizdala/0_backup_folder_development/AMD/scans_for_segmentation/me/control/684.meta')],\n",
       " 'control/686.meta': [PosixPath('/chuvdatarc/ja8818/RAD/LINE/Benedetta_Franceschiello/5_OCTs_Jakub_Gwizdala/0_backup_folder_development/AMD/scans_for_segmentation/me/control/686.meta')],\n",
       " 'control/653.meta': [PosixPath('/chuvdatarc/ja8818/RAD/LINE/Benedetta_Franceschiello/5_OCTs_Jakub_Gwizdala/0_backup_folder_development/AMD/scans_for_segmentation/me/control/653.meta')],\n",
       " 'control/654.meta': [PosixPath('/chuvdatarc/ja8818/RAD/LINE/Benedetta_Franceschiello/5_OCTs_Jakub_Gwizdala/0_backup_folder_development/AMD/scans_for_segmentation/me/control/654.meta')],\n",
       " 'control/656.meta': [PosixPath('/chuvdatarc/ja8818/RAD/LINE/Benedetta_Franceschiello/5_OCTs_Jakub_Gwizdala/0_backup_folder_development/AMD/scans_for_segmentation/me/control/656.meta')],\n",
       " 'control/657.meta': [PosixPath('/chuvdatarc/ja8818/RAD/LINE/Benedetta_Franceschiello/5_OCTs_Jakub_Gwizdala/0_backup_folder_development/AMD/scans_for_segmentation/me/control/657.meta')],\n",
       " 'control/659.meta': [PosixPath('/chuvdatarc/ja8818/RAD/LINE/Benedetta_Franceschiello/5_OCTs_Jakub_Gwizdala/0_backup_folder_development/AMD/scans_for_segmentation/me/control/659.meta')],\n",
       " 'control/660.meta': [PosixPath('/chuvdatarc/ja8818/RAD/LINE/Benedetta_Franceschiello/5_OCTs_Jakub_Gwizdala/0_backup_folder_development/AMD/scans_for_segmentation/me/control/660.meta')],\n",
       " 'control/662.meta': [PosixPath('/chuvdatarc/ja8818/RAD/LINE/Benedetta_Franceschiello/5_OCTs_Jakub_Gwizdala/0_backup_folder_development/AMD/scans_for_segmentation/me/control/662.meta')],\n",
       " 'control/663.meta': [PosixPath('/chuvdatarc/ja8818/RAD/LINE/Benedetta_Franceschiello/5_OCTs_Jakub_Gwizdala/0_backup_folder_development/AMD/scans_for_segmentation/me/control/663.meta')],\n",
       " 'control/665.meta': [PosixPath('/chuvdatarc/ja8818/RAD/LINE/Benedetta_Franceschiello/5_OCTs_Jakub_Gwizdala/0_backup_folder_development/AMD/scans_for_segmentation/me/control/665.meta')],\n",
       " 'control/666.meta': [PosixPath('/chuvdatarc/ja8818/RAD/LINE/Benedetta_Franceschiello/5_OCTs_Jakub_Gwizdala/0_backup_folder_development/AMD/scans_for_segmentation/me/control/666.meta')],\n",
       " 'control/50.meta': [PosixPath('/chuvdatarc/ja8818/RAD/LINE/Benedetta_Franceschiello/5_OCTs_Jakub_Gwizdala/0_backup_folder_development/AMD/scans_for_segmentation/me/control/50.meta')],\n",
       " 'control/51.meta': [PosixPath('/chuvdatarc/ja8818/RAD/LINE/Benedetta_Franceschiello/5_OCTs_Jakub_Gwizdala/1_OCT_Dataset/1_Segmented_OCTs/_OCTs_Discarded_to_avoid_overlap_segmented_NOT_CHECKED/control/51.meta')],\n",
       " 'control/53.meta': [PosixPath('/chuvdatarc/ja8818/RAD/LINE/Benedetta_Franceschiello/5_OCTs_Jakub_Gwizdala/0_backup_folder_development/AMD/scans_for_segmentation/me/control/53.meta')],\n",
       " 'control/54.meta': [PosixPath('/chuvdatarc/ja8818/RAD/LINE/Benedetta_Franceschiello/5_OCTs_Jakub_Gwizdala/1_OCT_Dataset/1_Segmented_OCTs/_OCTs_Discarded_to_avoid_overlap_segmented_NOT_CHECKED/control/54.meta')],\n",
       " 'control/56.meta': [PosixPath('/chuvdatarc/ja8818/RAD/LINE/Benedetta_Franceschiello/5_OCTs_Jakub_Gwizdala/0_backup_folder_development/AMD/scans_for_segmentation/me/control/56.meta')]}"
      ]
     },
     "execution_count": 9,
     "metadata": {},
     "output_type": "execute_result"
    }
   ],
   "source": [
    "candidates"
   ]
  },
  {
   "cell_type": "code",
   "execution_count": 12,
   "metadata": {},
   "outputs": [],
   "source": [
    "from pathlib import Path\n",
    "original_path = Path('/home/ja8818/data/scans_for_segmentation')"
   ]
  },
  {
   "cell_type": "code",
   "execution_count": 14,
   "metadata": {},
   "outputs": [],
   "source": [
    "with (original_path / 'filename_mappings.pickle').open(\"rb\") as file:\n",
    "    fm = pickle.load(file)"
   ]
  },
  {
   "cell_type": "code",
   "execution_count": 20,
   "metadata": {},
   "outputs": [],
   "source": [
    "missing_mappings_paths = [path for path, _ in missing_mappings]\n",
    "for key, oct_scan in fm.items():\n",
    "    rel_path = Path(oct_scan.filename).relative_to('/media/bzdeco/WD_LINE/AMD/raw_dataset/')\n",
    "    try:\n",
    "        index = missing_mappings_paths.index(str(rel_path))\n",
    "        print(f\"{rel_path} -> {missing_mappings[index]}\")\n",
    "    except ValueError:\n",
    "        continue"
   ]
  },
  {
   "cell_type": "code",
   "execution_count": 21,
   "metadata": {},
   "outputs": [],
   "source": [
    "with (original_path / 'filename_mappings_v2.pickle').open(\"rb\") as file:\n",
    "    fm2 = pickle.load(file)"
   ]
  },
  {
   "cell_type": "code",
   "execution_count": 30,
   "metadata": {},
   "outputs": [],
   "source": [
    "for key, scan in fm2.items():\n",
    "    rel_path = Path(scan.oct_scan.filename).relative_to('/media/bzdeco/WD_LINE/AMD/raw_dataset/')\n",
    "\n",
    "    try:\n",
    "        index = missing_mappings_paths.index(str(rel_path))\n",
    "        print(f\"{rel_path} -> {missing_mappings[index]}\")\n",
    "    except ValueError:\n",
    "        continue"
   ]
  },
  {
   "cell_type": "code",
   "execution_count": null,
   "metadata": {},
   "outputs": [],
   "source": []
  }
 ],
 "metadata": {
  "kernelspec": {
   "display_name": "Python 3",
   "language": "python",
   "name": "python3"
  },
  "language_info": {
   "codemirror_mode": {
    "name": "ipython",
    "version": 3
   },
   "file_extension": ".py",
   "mimetype": "text/x-python",
   "name": "python",
   "nbconvert_exporter": "python",
   "pygments_lexer": "ipython3",
   "version": "3.8.5"
  }
 },
 "nbformat": 4,
 "nbformat_minor": 5
}
