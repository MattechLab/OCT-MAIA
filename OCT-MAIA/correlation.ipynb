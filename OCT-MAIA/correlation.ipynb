{
 "cells": [
  {
   "cell_type": "markdown",
   "metadata": {},
   "source": [
    "First reads data\n",
    "* where are numbers coming from (MACULA ONLY MACULA WITH VESSELS...) ?\n",
    "* Once you find the optimal shift is it used to match the two immages? where is the trasformation performed? The two are then cropped to make a single couple of matching immages?"
   ]
  },
  {
   "cell_type": "code",
   "execution_count": null,
   "metadata": {},
   "outputs": [],
   "source": [
    "from skimage import io\n",
    "from skimage.color import rgb2gray\n",
    "from skimage.transform import resize\n",
    "\n",
    "import dataset\n",
    "import numpy as np\n",
    "import matplotlib.pyplot as plt"
   ]
  },
  {
   "cell_type": "code",
   "execution_count": null,
   "metadata": {},
   "outputs": [],
   "source": [
    "DATA = dataset.dataset_path(config_filename='../dataset.txt')"
   ]
  },
  {
   "cell_type": "code",
   "execution_count": null,
   "metadata": {},
   "outputs": [],
   "source": [
    "img_oct = rgb2gray(io.imread(f'{DATA}/{SUBSET}/oct.tif'))\n",
    "img_maia = rgb2gray(io.imread(f'{DATA}/{SUBSET}/maia.jpg'))"
   ]
  },
  {
   "cell_type": "code",
   "execution_count": null,
   "metadata": {},
   "outputs": [],
   "source": [
    "va_oct = 30\n",
    "va_maia = 36\n",
    "oct_px_per_va = img_oct.shape[0] / va_oct\n",
    "maia_px_per_va = img_maia.shape[0] / va_maia"
   ]
  },
  {
   "cell_type": "code",
   "execution_count": null,
   "metadata": {},
   "outputs": [],
   "source": [
    "print('OCT:', img_oct.shape, 'px/VA:', oct_px_per_va)\n",
    "print('MAIA:', img_maia.shape, 'px/VA:', maia_px_per_va)"
   ]
  },
  {
   "cell_type": "markdown",
   "metadata": {},
   "source": [
    "# Finding OCT central template in MAIA"
   ]
  },
  {
   "cell_type": "markdown",
   "metadata": {},
   "source": [
    "## Template"
   ]
  },
  {
   "cell_type": "code",
   "execution_count": null,
   "metadata": {},
   "outputs": [],
   "source": [
    "MACULA_ONLY = 64\n",
    "MACULA_WITH_VESSELS = 200\n",
    "patch_radius = MACULA_ONLY"
   ]
  },
  {
   "cell_type": "code",
   "execution_count": null,
   "metadata": {},
   "outputs": [],
   "source": [
    "def extract_window(image, center, radius):\n",
    "    assert type(center) == tuple and len(center) == 2, 'Center must be a tuple of window center coordinates'\n",
    "    if type(radius) == int:\n",
    "        v_rad = h_rad = radius\n",
    "    elif type(radius) == tuple and len(radius) == 2:\n",
    "        v_rad, h_rad = radius\n",
    "    else:\n",
    "        raise ValueError('Radius must be an integer or a 2-tuple')\n",
    "    \n",
    "    x, y = center\n",
    "    return image[(x - v_rad):(x + v_rad + 1), (y - h_rad):(y + h_rad + 1)]"
   ]
  },
  {
   "cell_type": "code",
   "execution_count": null,
   "metadata": {},
   "outputs": [],
   "source": [
    "center_coord = img_oct.shape[0] // 2\n",
    "macula_oct = extract_window(img_oct, (center_coord, center_coord), patch_radius)"
   ]
  },
  {
   "cell_type": "code",
   "execution_count": null,
   "metadata": {},
   "outputs": [],
   "source": [
    "io.imshow(macula_oct)"
   ]
  },
  {
   "cell_type": "markdown",
   "metadata": {},
   "source": [
    "## NCC matching"
   ]
  },
  {
   "cell_type": "code",
   "execution_count": null,
   "metadata": {},
   "outputs": [],
   "source": [
    "# NCC ritorna una matrice con ogni punto contenente la ncc del template shiftato di x,y\n",
    "def normalized_cross_correlation(image, template):\n",
    "    v_template, h_template = template.shape\n",
    "    assert v_template % 2 == 1 and h_template % 2 == 1, 'Template dimensions must be odd'\n",
    "    \n",
    "    demeaned_template = template - np.mean(template)\n",
    "    var_template = np.sum(np.square(demeaned_template))\n",
    "    \n",
    "    v_pad, h_pad = v_template // 2, h_template // 2\n",
    "    v_image, h_image = image.shape\n",
    "    \n",
    "    ncc = np.full(image.shape, fill_value=-1, dtype=np.float32)\n",
    "    for x in range(v_pad, v_image - v_pad):\n",
    "        for y in range(h_pad, h_image - h_pad):\n",
    "            patch = image[x-v_pad:x+v_pad+1, y-h_pad:y+h_pad+1]\n",
    "            demeaned_patch = patch - np.mean(patch)\n",
    "            var_patch = np.sum(np.square(demeaned_patch))\n",
    "            \n",
    "            ncc[x, y] = np.sum(np.multiply(demeaned_patch, demeaned_template)) / np.sqrt(var_template * var_patch)\n",
    "    \n",
    "    return ncc"
   ]
  },
  {
   "cell_type": "code",
   "execution_count": null,
   "metadata": {},
   "outputs": [],
   "source": [
    "crop = (va_maia - va_oct) / 2 * maia_px_per_va\n",
    "rounded_crop = int(crop)\n",
    "print(f\"Cropping each side by {crop:.2f} (rounded: {rounded_crop})\")\n",
    "height, width = img_maia.shape\n",
    "img_maia_cropped = img_maia[rounded_crop:(height - rounded_crop), rounded_crop:(width - rounded_crop)]"
   ]
  },
  {
   "cell_type": "code",
   "execution_count": null,
   "metadata": {},
   "outputs": [],
   "source": [
    "io.imsave('../output/cropped.jpg', img_maia_cropped)"
   ]
  },
  {
   "cell_type": "code",
   "execution_count": null,
   "metadata": {},
   "outputs": [],
   "source": [
    "img_maia_resized = resize(img_maia_cropped, img_oct.shape)"
   ]
  },
  {
   "cell_type": "code",
   "execution_count": null,
   "metadata": {},
   "outputs": [],
   "source": [
    "ncc = normalized_cross_correlation(img_maia_cropped, macula_oct)"
   ]
  },
  {
   "cell_type": "code",
   "execution_count": null,
   "metadata": {},
   "outputs": [],
   "source": [
    "io.imshow(ncc)"
   ]
  },
  {
   "cell_type": "code",
   "execution_count": null,
   "metadata": {},
   "outputs": [],
   "source": [
    "#un semplice argmax in 2D\n",
    "def argmax_image(image):\n",
    "    index = np.argmax(image.flatten())\n",
    "    size = image.shape[0]\n",
    "    x = index // size\n",
    "    y = index % size\n",
    "    return x, y"
   ]
  },
  {
   "cell_type": "code",
   "execution_count": null,
   "metadata": {},
   "outputs": [],
   "source": [
    "#una volta trovato il best matching si puo prendere la parte del maia che meglio assomiglia alla oct\n",
    "x, y = argmax_image(ncc)\n",
    "macula_maia = img_maia_resized[x-patch_radius:x+patch_radius+1, y-patch_radius:y+patch_radius+1]\n",
    "print(x, y)"
   ]
  },
  {
   "cell_type": "code",
   "execution_count": null,
   "metadata": {},
   "outputs": [],
   "source": [
    "io.imshow(macula_maia)"
   ]
  },
  {
   "cell_type": "code",
   "execution_count": null,
   "metadata": {},
   "outputs": [],
   "source": [
    "io.imshow(macula_oct)"
   ]
  },
  {
   "cell_type": "markdown",
   "metadata": {},
   "source": [
    "# Test"
   ]
  },
  {
   "cell_type": "code",
   "execution_count": null,
   "metadata": {},
   "outputs": [],
   "source": [
    "self_ncc = normalized_cross_correlation(img_oct, macula_oct)\n",
    "self_x, self_y = argmax_image(self_ncc)"
   ]
  },
  {
   "cell_type": "code",
   "execution_count": null,
   "metadata": {},
   "outputs": [],
   "source": [
    "found_macula = extract_window(img_oct, (self_x, self_y), patch_radius)"
   ]
  },
  {
   "cell_type": "code",
   "execution_count": null,
   "metadata": {},
   "outputs": [],
   "source": [
    "print(self_x, self_y)\n",
    "print('Exact match:', np.array_equal(found_macula, macula_oct))"
   ]
  },
  {
   "cell_type": "markdown",
   "metadata": {},
   "source": [
    "# Finding MAIA central template in OCT"
   ]
  },
  {
   "cell_type": "markdown",
   "metadata": {},
   "source": [
    "## Template"
   ]
  },
  {
   "cell_type": "code",
   "execution_count": null,
   "metadata": {},
   "outputs": [],
   "source": [
    "center_coord = img_maia.shape[0] // 2\n",
    "patch_radius = 80\n",
    "macula_maia = extract_window(img_maia, (center_coord + 30, center_coord + 5), patch_radius)"
   ]
  },
  {
   "cell_type": "code",
   "execution_count": null,
   "metadata": {},
   "outputs": [],
   "source": [
    "io.imshow(macula_maia)"
   ]
  },
  {
   "cell_type": "markdown",
   "metadata": {},
   "source": [
    "## NCC matching"
   ]
  },
  {
   "cell_type": "markdown",
   "metadata": {},
   "source": [
    "# Why this rescaling is used? same what is va ... "
   ]
  },
  {
   "cell_type": "code",
   "execution_count": null,
   "metadata": {},
   "outputs": [],
   "source": [
    "scaling = oct_px_per_va / maia_px_per_va  # TODO: verify the numbers for VA\n",
    "target_size = round(macula_maia.shape[0] * scaling)\n",
    "macula_maia_scaled = resize(macula_maia, (target_size, target_size))"
   ]
  },
  {
   "cell_type": "code",
   "execution_count": null,
   "metadata": {},
   "outputs": [],
   "source": [
    "ncc = normalized_cross_correlation(img_oct, macula_maia_scaled)\n",
    "center = argmax_image(ncc)\n",
    "radius = macula_maia_scaled.shape[0] // 2\n",
    "found_macula_oct = extract_window(img_oct, center, radius)"
   ]
  },
  {
   "cell_type": "code",
   "execution_count": null,
   "metadata": {},
   "outputs": [],
   "source": [
    "io.imshow(ncc)"
   ]
  },
  {
   "cell_type": "code",
   "execution_count": null,
   "metadata": {},
   "outputs": [],
   "source": [
    "io.imshow(found_macula_oct)"
   ]
  },
  {
   "cell_type": "code",
   "execution_count": null,
   "metadata": {},
   "outputs": [],
   "source": [
    "io.imshow(macula_maia)"
   ]
  },
  {
   "cell_type": "markdown",
   "metadata": {},
   "source": [
    "# Matching based on the optic nerve"
   ]
  },
  {
   "cell_type": "code",
   "execution_count": null,
   "metadata": {},
   "outputs": [],
   "source": [
    "def make_odd(value):\n",
    "    if value % 2 == 0:\n",
    "        return value + 1\n",
    "    else:\n",
    "        return value\n",
    "# OPTIC nerve é al centro al lato?\n",
    "def optic_nerve_patch(image, side='right', vertical_span=0.4, horizontal_span=0.1):\n",
    "    assert side in ('right', 'left'), \"Side must be either 'right' or 'left'\"\n",
    "    \n",
    "    res = image.shape[0]\n",
    "    center = res // 2\n",
    "    \n",
    "    # Calculate odd absolute span (in pixels)\n",
    "    abs_h_span, abs_v_span = make_odd(round(horizontal_span * res)), make_odd(round(vertical_span * res))\n",
    "    abs_v_rad = abs_v_span // 2\n",
    "    \n",
    "    if side == 'right':\n",
    "        return image[center - abs_v_rad:center + abs_v_rad + 1, -abs_h_span:]\n",
    "    else:\n",
    "        return image[center - abs_v_rad:center + abs_v_rad + 1, :abs_h_span]"
   ]
  },
  {
   "cell_type": "code",
   "execution_count": null,
   "metadata": {},
   "outputs": [],
   "source": [
    "optic_nerve = optic_nerve_patch(img_oct, side='right')\n",
    "scaling = maia_px_per_va / oct_px_per_va\n",
    "h, w = optic_nerve.shape\n",
    "# TODO: interpolation order\n",
    "optic_nerve_scaled = resize(optic_nerve, (make_odd(round(scaling * h)), make_odd(round(scaling * w))))"
   ]
  },
  {
   "cell_type": "code",
   "execution_count": null,
   "metadata": {},
   "outputs": [],
   "source": [
    "%%time\n",
    "ncc = normalized_cross_correlation(img_maia, optic_nerve_scaled)"
   ]
  },
  {
   "cell_type": "markdown",
   "metadata": {},
   "source": [
    "## Visualize matching accuracy"
   ]
  },
  {
   "cell_type": "code",
   "execution_count": null,
   "metadata": {},
   "outputs": [],
   "source": [
    "optic_nerve_coords = argmax_image(ncc)\n",
    "h, w = optic_nerve_scaled.shape\n",
    "maia_optic_nerve = extract_window(img_maia, optic_nerve_coords, (h // 2, w // 2))\n",
    "\n",
    "minimum = maia_optic_nerve.min()\n",
    "maia_optic_nerve = (maia_optic_nerve - minimum) / (maia_optic_nerve.max() - minimum)\n",
    "side_by_side = np.hstack((optic_nerve_scaled, np.flip(maia_optic_nerve, axis=1)))\n",
    "\n",
    "io.imshow(side_by_side)\n",
    "plt.title('Optic nerve\\nOCT (left) and MAIA (right)')\n",
    "plt.show()"
   ]
  },
  {
   "cell_type": "markdown",
   "metadata": {},
   "source": [
    "They seem to be vertically matched correcly, but the patch found in the MAIA image should have more pixels on the optic nerve side area."
   ]
  },
  {
   "cell_type": "markdown",
   "metadata": {},
   "source": [
    "## Cropping based on the match"
   ]
  },
  {
   "cell_type": "code",
   "execution_count": null,
   "metadata": {},
   "outputs": [],
   "source": [
    "def crop_with_optic_nerve_patch(image, patch_shape, patch_center, side='right', vertical_span=0.4, horizontal_span=0.1):\n",
    "    v_patch, h_patch = patch_shape\n",
    "    v_center_patch, h_center_patch = patch_center\n",
    "    \n",
    "    target_side = 784\n",
    "    target_radius = target_side // 2\n",
    "    "
   ]
  }
 ],
 "metadata": {
  "kernelspec": {
   "display_name": "Python 3",
   "language": "python",
   "name": "python3"
  },
  "language_info": {
   "codemirror_mode": {
    "name": "ipython",
    "version": 3
   },
   "file_extension": ".py",
   "mimetype": "text/x-python",
   "name": "python",
   "nbconvert_exporter": "python",
   "pygments_lexer": "ipython3",
   "version": "3.8.5"
  }
 },
 "nbformat": 4,
 "nbformat_minor": 4
}
