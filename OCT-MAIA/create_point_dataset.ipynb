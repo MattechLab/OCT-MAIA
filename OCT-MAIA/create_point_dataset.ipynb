{
 "cells": [
  {
   "cell_type": "code",
   "execution_count": 74,
   "id": "41faa249",
   "metadata": {},
   "outputs": [],
   "source": [
    "from preprocessing import *\n",
    "from pathlib import Path\n",
    "from tqdm import tqdm"
   ]
  },
  {
   "cell_type": "code",
   "execution_count": 75,
   "id": "71b7fb67",
   "metadata": {},
   "outputs": [],
   "source": [
    "preprocessed_dataset_dir = Path(\"/home/ja8818/data/preprocessing/preprocessed_octs/\")"
   ]
  },
  {
   "cell_type": "code",
   "execution_count": 76,
   "id": "85931923",
   "metadata": {},
   "outputs": [],
   "source": [
    "amd_train = [0, 1, 3, 5, 6]\n",
    "amd_test = [2, 4]\n",
    "control_train = [0, 1, 3, 4, 5, 6, 9, 10, 11, 12]\n",
    "control_test = [2, 7, 8]"
   ]
  },
  {
   "cell_type": "markdown",
   "id": "d6894722",
   "metadata": {},
   "source": [
    "# Point dataset generation"
   ]
  },
  {
   "cell_type": "code",
   "execution_count": 77,
   "id": "94028809",
   "metadata": {},
   "outputs": [],
   "source": [
    "layers = ['INFL', 'ONFL', 'IPL', 'OPL', 'ICL', 'RPE']\n",
    "\n",
    "def get_points_from_subjects_eye(preprocessed_octs):\n",
    "    points = np.zeros((0, 5))\n",
    "    labels = np.zeros((0,))\n",
    "    \n",
    "    for scan in preprocessed_octs:\n",
    "        label = scan.label()\n",
    "        thicknesses = []\n",
    "        for inner_layer, outer_layer in zip (layers[:-1], layers[1:]):\n",
    "            thicknesses.append(scan.thickness(inner_layer, outer_layer))\n",
    "        points = np.concatenate((points, np.asarray(thicknesses).T), axis=0)\n",
    "        labels = np.concatenate((labels, scan.label()))\n",
    "        \n",
    "        if points.shape[0] != len(labels):\n",
    "            raise ValueError(f\"Size mismatch: {scan}\")\n",
    "    \n",
    "    return points, labels"
   ]
  },
  {
   "cell_type": "code",
   "execution_count": 78,
   "id": "8525c7c2",
   "metadata": {},
   "outputs": [
    {
     "name": "stderr",
     "output_type": "stream",
     "text": [
      "100%|██████████| 29/29 [00:09<00:00,  3.08it/s]\n"
     ]
    }
   ],
   "source": [
    "amd_train_points, amd_test_points = np.zeros((0, 5)), np.zeros((0, 5))\n",
    "control_train_points, control_test_points = np.zeros((0, 5)), np.zeros((0, 5))\n",
    "\n",
    "amd_train_labels, amd_test_labels = np.zeros((0,)), np.zeros((0,))\n",
    "control_train_labels, control_test_labels = np.zeros((0,)), np.zeros((0,))\n",
    "\n",
    "for filename in tqdm(list(preprocessed_dataset_dir.glob(\"*.pickle\"))):\n",
    "    group, id, eye = filename.stem.split('_')\n",
    "    \n",
    "    with filename.open(\"rb\") as file:\n",
    "        preprocessed_octs = pickle.load(file)\n",
    "    points, labels = get_points_from_subjects_eye(preprocessed_octs)\n",
    "    \n",
    "    if group == \"amd\":\n",
    "        if int(id) in amd_train:\n",
    "            amd_train_points = np.concatenate((amd_train_points, points), axis=0)\n",
    "            amd_train_labels = np.concatenate((amd_train_labels, labels), axis=0)\n",
    "        else:\n",
    "            amd_test_points = np.concatenate((amd_test_points, points), axis=0)\n",
    "            amd_test_labels = np.concatenate((amd_test_labels, labels), axis=0)\n",
    "    else:\n",
    "        if int(id) in control_train:\n",
    "            control_train_points = np.concatenate((control_train_points, points), axis=0)\n",
    "            control_train_labels = np.concatenate((control_train_labels, labels), axis=0)\n",
    "        else:\n",
    "            control_test_points = np.concatenate((control_test_points, points), axis=0)\n",
    "            control_test_labels = np.concatenate((control_test_labels, labels), axis=0)"
   ]
  },
  {
   "cell_type": "code",
   "execution_count": 79,
   "id": "1fe7bc90",
   "metadata": {},
   "outputs": [],
   "source": [
    "n_amd_train, n_amd_test = len(amd_train_labels), len(amd_test_labels)\n",
    "n_control_train, n_control_test = len(control_train_labels), len(control_test_labels)"
   ]
  },
  {
   "cell_type": "code",
   "execution_count": 80,
   "id": "edf34c38",
   "metadata": {},
   "outputs": [],
   "source": [
    "n_train = n_amd_train + n_control_train\n",
    "n_test = n_amd_test + n_control_test"
   ]
  },
  {
   "cell_type": "code",
   "execution_count": 87,
   "id": "b0de18ee",
   "metadata": {},
   "outputs": [
    {
     "name": "stdout",
     "output_type": "stream",
     "text": [
      "Total points:   354650\n",
      "AMD points:     278474\n",
      "Control points: 76176\n",
      "Total test:     24.9%\n",
      "AMD test:       22.8%\n",
      "Control test:   32.7%\n"
     ]
    }
   ],
   "source": [
    "print(f'Total points:   {n_train + n_test}')\n",
    "print(f'AMD points:     {n_amd_train + n_amd_test}')\n",
    "print(f'Control points: {n_control_train + n_control_test}')\n",
    "print(f'Total test:     {100 * n_test / (n_train + n_test):.1f}%')\n",
    "print(f'AMD test:       {100 * n_amd_test / (n_amd_train + n_amd_test):.1f}%')\n",
    "print(f'Control test:   {100 * n_control_test / (n_control_train + n_control_test):.1f}%')"
   ]
  },
  {
   "cell_type": "code",
   "execution_count": 88,
   "id": "60a7a3a8",
   "metadata": {},
   "outputs": [
    {
     "data": {
      "text/plain": [
       "(214912, 5)"
      ]
     },
     "execution_count": 88,
     "metadata": {},
     "output_type": "execute_result"
    }
   ],
   "source": [
    "amd_train_points.shape"
   ]
  },
  {
   "cell_type": "markdown",
   "id": "6f37a387",
   "metadata": {},
   "source": [
    "# Save results"
   ]
  },
  {
   "cell_type": "code",
   "execution_count": 91,
   "id": "6676bf70",
   "metadata": {},
   "outputs": [],
   "source": [
    "save_path = Path(\"/home/ja8818/data/points_dataset/\")"
   ]
  },
  {
   "cell_type": "code",
   "execution_count": 93,
   "id": "4b26bf95",
   "metadata": {},
   "outputs": [],
   "source": [
    "np.save((save_path / \"train\" / \"amd_points.npy\"), amd_train_points)\n",
    "np.save((save_path / \"train\" / \"amd_labels.npy\"), amd_train_labels)\n",
    "np.save((save_path / \"train\" / \"control_points.npy\"), control_train_points)\n",
    "np.save((save_path / \"train\" / \"control_labels.npy\"), control_train_labels)"
   ]
  },
  {
   "cell_type": "code",
   "execution_count": 94,
   "id": "29e8c5ee",
   "metadata": {},
   "outputs": [],
   "source": [
    "np.save((save_path / \"test\" / \"amd_points.npy\"), amd_test_points)\n",
    "np.save((save_path / \"test\" / \"amd_labels.npy\"), amd_test_labels)\n",
    "np.save((save_path / \"test\" / \"control_points.npy\"), control_test_points)\n",
    "np.save((save_path / \"test\" / \"control_labels.npy\"), control_test_labels)"
   ]
  }
 ],
 "metadata": {
  "kernelspec": {
   "display_name": "Python 3 (ipykernel)",
   "language": "python",
   "name": "python3"
  },
  "language_info": {
   "codemirror_mode": {
    "name": "ipython",
    "version": 3
   },
   "file_extension": ".py",
   "mimetype": "text/x-python",
   "name": "python",
   "nbconvert_exporter": "python",
   "pygments_lexer": "ipython3",
   "version": "3.9.13"
  }
 },
 "nbformat": 4,
 "nbformat_minor": 5
}
