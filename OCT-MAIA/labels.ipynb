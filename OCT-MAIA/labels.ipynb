{
 "cells": [
  {
   "cell_type": "markdown",
   "metadata": {},
   "source": [
    "# Intersection of BCEA areas"
   ]
  },
  {
   "cell_type": "code",
   "execution_count": 1,
   "metadata": {},
   "outputs": [],
   "source": [
    "import dataset\n",
    "import numpy as np\n",
    "import ipyplot\n",
    "import matplotlib.pyplot as plt\n",
    "\n",
    "from preprocessing import load_npy, all_part_identifiers\n",
    "from skimage.transform import resize"
   ]
  },
  {
   "cell_type": "markdown",
   "metadata": {},
   "source": [
    "## AMD group BCEA intersection and union"
   ]
  },
  {
   "cell_type": "code",
   "execution_count": 2,
   "metadata": {},
   "outputs": [],
   "source": [
    "_ = dataset.initialize('/home/ja8818/code/config/dataset.txt')"
   ]
  },
  {
   "cell_type": "code",
   "execution_count": 3,
   "metadata": {},
   "outputs": [],
   "source": [
    "def pad_equally_around(img, target_size):\n",
    "    total_pad = target_size - img.shape[0]\n",
    "    leading_pad = total_pad // 2\n",
    "    trailing_pad = total_pad - leading_pad\n",
    "    return np.pad(img, ((leading_pad, trailing_pad), (leading_pad, trailing_pad)))"
   ]
  },
  {
   "cell_type": "code",
   "execution_count": 4,
   "metadata": {},
   "outputs": [],
   "source": [
    "def compute_bcea_areas_measure(identifiers, measure, labels_folder, return_bcea_images=False):\n",
    "    assert measure in {'intersection', 'union'}, 'Unknown measure specified'\n",
    "\n",
    "    def load_label_image(identifier):\n",
    "        lbl_image = load_npy(labels_folder, identifier)\n",
    "        # Dense (full) scan images have smaller resolution than detail (up/centre/down)\n",
    "        if lbl_image is not None:\n",
    "            if lbl_image.shape[0] != 1536:\n",
    "                lbl_image = resize(lbl_image, (1536,) * 2, order=0)\n",
    "            return lbl_image\n",
    "        else:\n",
    "            return None\n",
    "\n",
    "    def crop_image_to_bcea_ellipse(img):\n",
    "        label_indices = np.argwhere(img > 0)\n",
    "        y_min, y_max = label_indices[:, 0].min(), label_indices[:, 0].max()\n",
    "        x_min, x_max = label_indices[:, 1].min(), label_indices[:, 1].max()\n",
    "        height, width = y_max - y_min + 1, x_max - x_min + 1\n",
    "        side_len = max(height, width)\n",
    "        if height > width:\n",
    "            total_pad = side_len - width\n",
    "            x_pad = total_pad // 2\n",
    "            return image[y_min:y_max + 1, x_min - x_pad:x_max + (total_pad - x_pad) + 1]\n",
    "        else:\n",
    "            total_pad = side_len - height\n",
    "            y_pad = total_pad // 2\n",
    "            return image[y_min - y_pad:y_max + (total_pad - y_pad) + 1, x_min:x_max + 1]\n",
    "\n",
    "    images = []\n",
    "    for identifier in identifiers:\n",
    "        image = load_label_image(identifier)\n",
    "        if image is not None:\n",
    "            images.append(crop_image_to_bcea_ellipse(image))\n",
    "\n",
    "    largest_size = np.max(list(map(lambda img: img.shape[0], images)))\n",
    "    if measure == 'intersection':\n",
    "        measure_output = np.ones((largest_size,) * 2)\n",
    "    else:  # union\n",
    "        measure_output = np.zeros((largest_size,) * 2)\n",
    "\n",
    "    for i in range(len(images)):\n",
    "        images[i] = pad_equally_around(images[i], largest_size)\n",
    "        if measure == 'intersection':\n",
    "            measure_output = np.logical_and(measure_output, images[i])\n",
    "        else:  # union\n",
    "            measure_output = np.logical_or(measure_output, images[i])\n",
    "\n",
    "    if return_bcea_images:\n",
    "        return measure_output, images\n",
    "    else:\n",
    "        return measure_output"
   ]
  },
  {
   "cell_type": "code",
   "execution_count": 5,
   "metadata": {},
   "outputs": [],
   "source": [
    "part_identifiers = all_part_identifiers()\n",
    "amd_left_identifiers = [iden for iden in part_identifiers if iden.group == 'amd' and iden.eye == 'left']\n",
    "amd_right_identifiers = [iden for iden in part_identifiers if iden.group == 'amd' and iden.eye == 'right']\n",
    "control_left_identifiers = [iden for iden in part_identifiers if iden.group == 'control' and iden.eye == 'left']\n",
    "control_right_identifiers = [iden for iden in part_identifiers if iden.group == 'control' and iden.eye == 'right']\n",
    "labels_folder = '/home/ja8818/data/preprocessing/warped_labels'"
   ]
  },
  {
   "cell_type": "code",
   "execution_count": 6,
   "metadata": {},
   "outputs": [],
   "source": [
    "intersection_left, bceas_left = compute_bcea_areas_measure(\n",
    "    amd_left_identifiers, 'intersection', labels_folder, return_bcea_images=True\n",
    ")\n",
    "union_left = compute_bcea_areas_measure(\n",
    "    amd_left_identifiers, 'union', labels_folder, return_bcea_images=False\n",
    ")"
   ]
  },
  {
   "cell_type": "code",
   "execution_count": 7,
   "metadata": {},
   "outputs": [],
   "source": [
    "# ipyplot.plot_images(bceas_left, img_width=100)"
   ]
  },
  {
   "cell_type": "code",
   "execution_count": 8,
   "metadata": {},
   "outputs": [],
   "source": [
    "intersection_right, bceas_right = compute_bcea_areas_measure(\n",
    "    amd_right_identifiers, 'intersection', labels_folder, return_bcea_images=True\n",
    ")\n",
    "union_right = compute_bcea_areas_measure(\n",
    "    amd_right_identifiers, 'union', labels_folder, return_bcea_images=False\n",
    ")"
   ]
  },
  {
   "cell_type": "code",
   "execution_count": 9,
   "metadata": {},
   "outputs": [],
   "source": [
    "# ipyplot.plot_images(bceas_right, img_width=100)"
   ]
  },
  {
   "cell_type": "code",
   "execution_count": 10,
   "metadata": {},
   "outputs": [],
   "source": [
    "def plot_measures(measure, group, left, right):\n",
    "    fig, axs = plt.subplots(1, 2, figsize=(15, 8))\n",
    "    fig.suptitle(f'{measure.capitalize()} in {group} group', fontsize=15)\n",
    "    axs[0].imshow(pad_equally_around(left, 1536), cmap='gray')\n",
    "    axs[0].set_title('Left eye')\n",
    "    axs[0].axis('off') # Turn off axis in subplots: https://stackoverflow.com/a/25864515\n",
    "    axs[1].imshow(pad_equally_around(right, 1536), cmap='gray')\n",
    "    axs[1].set_title('Right eye')\n",
    "    axs[1].axis('off')\n",
    "    plt.show()"
   ]
  },
  {
   "cell_type": "code",
   "execution_count": 11,
   "metadata": {},
   "outputs": [],
   "source": [
    "# plot_measures('intersections', 'AMD', intersection_left, intersection_right)"
   ]
  },
  {
   "cell_type": "code",
   "execution_count": 12,
   "metadata": {},
   "outputs": [],
   "source": [
    "# plot_measures('unions', 'AMD', union_left, union_right)"
   ]
  },
  {
   "cell_type": "code",
   "execution_count": 13,
   "metadata": {},
   "outputs": [],
   "source": [
    "def intersection_percentages(intersection, bceas):\n",
    "    n_pixels_intersection = np.count_nonzero(intersection)\n",
    "    return [n_pixels_intersection / np.count_nonzero(bcea) for bcea in bceas]\n",
    "\n",
    "def union_percentages(union, bceas):\n",
    "    n_pixels_union = np.count_nonzero(union)\n",
    "    return [np.count_nonzero(bcea) / n_pixels_union for bcea in bceas]"
   ]
  },
  {
   "cell_type": "code",
   "execution_count": 14,
   "metadata": {},
   "outputs": [],
   "source": [
    "left_intersection_fractions = intersection_percentages(intersection_left, bceas_left)\n",
    "right_intersection_fractions = intersection_percentages(intersection_right, bceas_right)\n",
    "left_union_fractions = union_percentages(union_left, bceas_left)\n",
    "right_union_fractions = union_percentages(union_right, bceas_right)"
   ]
  },
  {
   "cell_type": "code",
   "execution_count": 15,
   "metadata": {},
   "outputs": [],
   "source": [
    "# Map to strings\n",
    "left_intersection_fractions_str = list(map(lambda a: str(a), left_intersection_fractions))\n",
    "right_intersection_fractions_str = list(map(lambda a: str(a), right_intersection_fractions))\n",
    "left_union_fractions_str = list(map(lambda a: str(a), left_union_fractions))\n",
    "right_union_fractions_str = list(map(lambda a: str(a), right_union_fractions))"
   ]
  },
  {
   "cell_type": "code",
   "execution_count": 16,
   "metadata": {},
   "outputs": [],
   "source": [
    "with open('/home/ja8818/data/intersections_unions.txt', 'w') as file:\n",
    "    file.write(f\"AMD left eye intersection fractions: {' '.join(left_intersection_fractions_str)}\\n\")\n",
    "    file.write(f\"AMD right eye intersection fractions: {' '.join(right_intersection_fractions_str)}\\n\")\n",
    "    file.write(f\"AMD left eye union fractions: {' '.join(left_union_fractions_str)}\\n\")\n",
    "    file.write(f\"AMD right eye union fractions: {' '.join(right_union_fractions_str)}\\n\")"
   ]
  },
  {
   "cell_type": "code",
   "execution_count": 17,
   "metadata": {},
   "outputs": [],
   "source": [
    "def plot_measure_share_fractions(measure, left_fractions, right_fractions):\n",
    "    fig, axs = plt.subplots(1, 3, figsize=(15, 5))\n",
    "    _ = axs[0].hist(left_fractions, bins=10, range=(0,1))\n",
    "    axs[0].set_xticks(np.arange(0, 1.1, step=0.1))\n",
    "    axs[0].set_title('Left eye')\n",
    "    axs[0].set_ylabel('# of label images')\n",
    "    axs[0].set_xlabel(f'Fraction of area common with {measure}')\n",
    "\n",
    "    _ = axs[1].hist(right_fractions, bins=10, range=(0,1))\n",
    "    axs[1].set_xticks(np.arange(0, 1.1, step=0.1))\n",
    "    axs[1].set_title('Right eye')\n",
    "    axs[1].set_ylabel('# of label images')\n",
    "    axs[1].set_xlabel(f'Fraction of area common with {measure}')\n",
    "\n",
    "    _ = axs[2].hist(left_fractions + right_fractions, bins=10, range=(0,1))\n",
    "    axs[2].set_xticks(np.arange(0, 1.1, step=0.1))\n",
    "    axs[2].set_title('Both eyes')\n",
    "    axs[2].set_ylabel('# of label images')\n",
    "    axs[2].set_xlabel(f'Fraction of area common with {measure}')\n",
    "    plt.show()"
   ]
  },
  {
   "cell_type": "code",
   "execution_count": 18,
   "metadata": {},
   "outputs": [
    {
     "data": {
      "image/png": "[encoded data removed]",
      "text/plain": [
       "<Figure size 1080x360 with 3 Axes>"
      ]
     },
     "metadata": {
      "needs_background": "light"
     },
     "output_type": "display_data"
    }
   ],
   "source": [
    "plot_measure_share_fractions('intersection', left_intersection_fractions, right_intersection_fractions)"
   ]
  },
  {
   "cell_type": "code",
   "execution_count": 19,
   "metadata": {},
   "outputs": [
    {
     "data": {
      "image/png": "[encoded data removed]",
      "text/plain": [
       "<Figure size 1080x360 with 3 Axes>"
      ]
     },
     "metadata": {
      "needs_background": "light"
     },
     "output_type": "display_data"
    }
   ],
   "source": [
    "plot_measure_share_fractions('union', left_union_fractions, right_union_fractions)"
   ]
  },
  {
   "cell_type": "markdown",
   "metadata": {},
   "source": [
    "## Control group BCEA intersection and union"
   ]
  },
  {
   "cell_type": "code",
   "execution_count": 20,
   "metadata": {},
   "outputs": [],
   "source": [
    "intersection_right, bceas_right = compute_bcea_areas_measure(\n",
    "    control_right_identifiers, 'intersection', labels_folder, return_bcea_images=True\n",
    ")\n",
    "union_right = compute_bcea_areas_measure(\n",
    "    control_right_identifiers, 'union', labels_folder, return_bcea_images=False\n",
    ")"
   ]
  },
  {
   "cell_type": "code",
   "execution_count": 21,
   "metadata": {},
   "outputs": [],
   "source": [
    "# ipyplot.plot_images(bceas_left, img_width=100)"
   ]
  },
  {
   "cell_type": "code",
   "execution_count": 22,
   "metadata": {},
   "outputs": [],
   "source": [
    "intersection_left, bceas_left = compute_bcea_areas_measure(\n",
    "    control_left_identifiers, 'intersection', labels_folder, return_bcea_images=True\n",
    ")\n",
    "union_left = compute_bcea_areas_measure(\n",
    "    control_left_identifiers, 'union', labels_folder, return_bcea_images=False\n",
    ")"
   ]
  },
  {
   "cell_type": "code",
   "execution_count": 23,
   "metadata": {},
   "outputs": [],
   "source": [
    "# ipyplot.plot_images(bceas_right, img_width=100)"
   ]
  },
  {
   "cell_type": "code",
   "execution_count": 24,
   "metadata": {},
   "outputs": [],
   "source": [
    "# plot_measures('intersections', 'control', intersection_left, intersection_right)"
   ]
  },
  {
   "cell_type": "code",
   "execution_count": 25,
   "metadata": {},
   "outputs": [],
   "source": [
    "# plot_measures('unions', 'control', union_left, union_right)"
   ]
  },
  {
   "cell_type": "code",
   "execution_count": 26,
   "metadata": {},
   "outputs": [],
   "source": [
    "left_intersection_fractions = intersection_percentages(intersection_left, bceas_left)\n",
    "right_intersection_fractions = intersection_percentages(intersection_right, bceas_right)\n",
    "left_union_fractions = union_percentages(union_left, bceas_left)\n",
    "right_union_fractions = union_percentages(union_right, bceas_right)"
   ]
  },
  {
   "cell_type": "code",
   "execution_count": 27,
   "metadata": {},
   "outputs": [],
   "source": [
    "# Map to strings\n",
    "left_intersection_fractions_str = list(map(lambda a: str(a), left_intersection_fractions))\n",
    "right_intersection_fractions_str = list(map(lambda a: str(a), right_intersection_fractions))\n",
    "left_union_fractions_str = list(map(lambda a: str(a), left_union_fractions))\n",
    "right_union_fractions_str = list(map(lambda a: str(a), right_union_fractions))"
   ]
  },
  {
   "cell_type": "code",
   "execution_count": 28,
   "metadata": {},
   "outputs": [],
   "source": [
    "with open('/home/ja8818/data/intersections_unions.txt', 'a') as file:\n",
    "    file.write(f\"Control left eye intersection fractions: {' '.join(left_intersection_fractions_str)}\\n\")\n",
    "    file.write(f\"Control right eye intersection fractions: {' '.join(right_intersection_fractions_str)}\\n\")\n",
    "    file.write(f\"Control left eye union fractions: {' '.join(left_union_fractions_str)}\\n\")\n",
    "    file.write(f\"Control right eye union fractions: {' '.join(right_union_fractions_str)}\\n\")"
   ]
  },
  {
   "cell_type": "code",
   "execution_count": 29,
   "metadata": {
    "scrolled": true
   },
   "outputs": [
    {
     "data": {
      "image/png": "[encoded data removed]",
      "text/plain": [
       "<Figure size 1080x360 with 3 Axes>"
      ]
     },
     "metadata": {
      "needs_background": "light"
     },
     "output_type": "display_data"
    }
   ],
   "source": [
    "plot_measure_share_fractions('intersection', left_intersection_fractions, right_intersection_fractions)"
   ]
  },
  {
   "cell_type": "code",
   "execution_count": 30,
   "metadata": {},
   "outputs": [
    {
     "data": {
      "image/png": "[encoded data removed]",
      "text/plain": [
       "<Figure size 1080x360 with 3 Axes>"
      ]
     },
     "metadata": {
      "needs_background": "light"
     },
     "output_type": "display_data"
    }
   ],
   "source": [
    "plot_measure_share_fractions('union', left_union_fractions, right_union_fractions)"
   ]
  }
 ],
 "metadata": {
  "kernelspec": {
   "display_name": "Python 3 (ipykernel)",
   "language": "python",
   "name": "python3"
  },
  "language_info": {
   "codemirror_mode": {
    "name": "ipython",
    "version": 3
   },
   "file_extension": ".py",
   "mimetype": "text/x-python",
   "name": "python",
   "nbconvert_exporter": "python",
   "pygments_lexer": "ipython3",
   "version": "3.9.13"
  }
 },
 "nbformat": 4,
 "nbformat_minor": 4
}
