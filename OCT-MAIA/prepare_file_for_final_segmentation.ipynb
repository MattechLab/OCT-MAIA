{
 "cells": [
  {
   "cell_type": "markdown",
   "metadata": {},
   "source": [
    "# Files that had no segmentation done"
   ]
  },
  {
   "cell_type": "code",
   "execution_count": 1,
   "metadata": {},
   "outputs": [],
   "source": [
    "missing_mappings_filename = 'missing_mappings_after_restoration.pickle'\n",
    "nonexistent_meta_filename = 'nonexistent_meta_files_after_restoration.pickle'"
   ]
  },
  {
   "cell_type": "code",
   "execution_count": 16,
   "metadata": {},
   "outputs": [],
   "source": [
    "import pickle\n",
    "import shutil\n",
    "from pathlib import Path"
   ]
  },
  {
   "cell_type": "markdown",
   "metadata": {},
   "source": [
    "## Missing mappings"
   ]
  },
  {
   "cell_type": "code",
   "execution_count": 3,
   "metadata": {},
   "outputs": [],
   "source": [
    "with open(missing_mappings_filename, 'rb') as file:\n",
    "    missing_mappings = pickle.load(file)"
   ]
  },
  {
   "cell_type": "code",
   "execution_count": 5,
   "metadata": {},
   "outputs": [],
   "source": [
    "filenames = [tup[0] for tup in missing_mappings]"
   ]
  },
  {
   "cell_type": "code",
   "execution_count": 15,
   "metadata": {},
   "outputs": [],
   "source": [
    "target_dir = Path('/chuvdatarc/ja8818/RAD/LINE/Benedetta_Franceschiello/5_OCTs_Jakub_Gwizdala/0_backup_folder_development/AMD/scans_for_final_segmentation/to_segment/missing_matching_meta')\n",
    "data_dir = Path('/chuvdatarc/ja8818/RAD/LINE/Benedetta_Franceschiello/5_OCTs_Jakub_Gwizdala/0_backup_folder_development/AMD/raw_dataset')"
   ]
  },
  {
   "cell_type": "code",
   "execution_count": 17,
   "metadata": {},
   "outputs": [],
   "source": [
    "missing_matching_meta_mapping = {}\n",
    "for i, filename in enumerate(filenames):\n",
    "    source_location = data_dir / filename\n",
    "    group = filename[:filename.find('/')]\n",
    "    dest_location = target_dir / group / f'{i}_mm.tif'\n",
    "    missing_matching_meta_mapping[str(source_location)] = str(dest_location)\n",
    "    shutil.copy2(source_location, dest_location)"
   ]
  },
  {
   "cell_type": "code",
   "execution_count": 23,
   "metadata": {},
   "outputs": [],
   "source": [
    "with open('mappings/missing_matching_meta_mapping.pickle', 'wb') as file:\n",
    "    pickle.dump(missing_matching_meta_mapping, file)"
   ]
  },
  {
   "cell_type": "markdown",
   "metadata": {},
   "source": [
    "## Nonexistent meta"
   ]
  },
  {
   "cell_type": "code",
   "execution_count": 24,
   "metadata": {},
   "outputs": [],
   "source": [
    "target_dir = Path('/chuvdatarc/ja8818/RAD/LINE/Benedetta_Franceschiello/5_OCTs_Jakub_Gwizdala/0_backup_folder_development/AMD/scans_for_final_segmentation/to_segment/not_done_matching_meta')\n",
    "data_dir = Path('/chuvdatarc/ja8818/RAD/LINE/Benedetta_Franceschiello/5_OCTs_Jakub_Gwizdala/0_backup_folder_development/AMD/raw_dataset')"
   ]
  },
  {
   "cell_type": "code",
   "execution_count": 25,
   "metadata": {},
   "outputs": [],
   "source": [
    "with open(nonexistent_meta_filename, 'rb') as file:\n",
    "    nonexistent_meta = pickle.load(file)"
   ]
  },
  {
   "cell_type": "code",
   "execution_count": 26,
   "metadata": {},
   "outputs": [],
   "source": [
    "with open('lost_meta_files_candidates.pickle', 'rb') as file:\n",
    "    lost_meta_candidates = pickle.load(file)"
   ]
  },
  {
   "cell_type": "code",
   "execution_count": 35,
   "metadata": {},
   "outputs": [],
   "source": [
    "nonexistent_meta_mapping = {}\n",
    "for i, (scan_filename, meta_filenames) in enumerate(nonexistent_meta):\n",
    "    source_location = data_dir / scan_filename\n",
    "    group = scan_filename[:scan_filename.find('/')]\n",
    "    target_location = target_dir / group / f'{i}_nm.tif'\n",
    "    \n",
    "    if not source_location.exists():\n",
    "        break\n",
    "    \n",
    "    nonexistent_meta_mapping[str(source_location)] = str(target_location)\n",
    "    shutil.copy2(source_location, target_location)\n",
    "    \n",
    "    if meta_filenames[0] in lost_meta_candidates:\n",
    "        source_meta_location = lost_meta_candidates[meta_filenames[0]][0]\n",
    "        target_meta_location = target_dir / group / f'{i}_nm.meta'\n",
    "        shutil.copy2(source_meta_location, target_meta_location)"
   ]
  },
  {
   "cell_type": "code",
   "execution_count": 42,
   "metadata": {},
   "outputs": [],
   "source": [
    "with open('mappings/nonexistent_meta_mapping.pickle', 'wb') as file:\n",
    "    pickle.dump(nonexistent_meta_mapping, file)"
   ]
  },
  {
   "cell_type": "markdown",
   "metadata": {},
   "source": [
    "## To review"
   ]
  },
  {
   "cell_type": "code",
   "execution_count": 52,
   "metadata": {},
   "outputs": [],
   "source": [
    "from preprocessing import *"
   ]
  },
  {
   "cell_type": "code",
   "execution_count": 53,
   "metadata": {},
   "outputs": [],
   "source": [
    "to_review = ['control_8_right', 'control_8_left', 'control_9_left', 'control_9_right', 'control_10_right', \n",
    "             'control_10_left', 'control_11_right', 'control_11_left', 'control_12_right', 'control_12_left',\n",
    "             'amd_2_left', 'amd_6_left', 'control_0_left']"
   ]
  },
  {
   "cell_type": "code",
   "execution_count": 54,
   "metadata": {},
   "outputs": [],
   "source": [
    "mapping = '/chuvdatarc/ja8818/RAD/LINE/Benedetta_Franceschiello/5_OCTs_Jakub_Gwizdala/0_backup_folder_development/AMD/filename_to_meta_mapping_extended_and_restored.pickle'"
   ]
  },
  {
   "cell_type": "code",
   "execution_count": 55,
   "metadata": {},
   "outputs": [],
   "source": [
    "with open(mapping, 'rb') as file:\n",
    "    mapping = pickle.load(file)"
   ]
  },
  {
   "cell_type": "code",
   "execution_count": 66,
   "metadata": {},
   "outputs": [],
   "source": [
    "preprocessing_dir = Path('/chuvdatarc/ja8818/RAD/LINE/Benedetta_Franceschiello/5_OCTs_Jakub_Gwizdala/0_backup_folder_development/AMD/preprocessing/preprocessed_octs')\n",
    "meta_root_dir = Path('/chuvdatarc/ja8818/RAD/LINE/Benedetta_Franceschiello/5_OCTs_Jakub_Gwizdala/1_OCT_Dataset/1_Segmented_OCTs/1_Final_Segmented_OCTs')\n",
    "target_dir = Path('/chuvdatarc/ja8818/RAD/LINE/Benedetta_Franceschiello/5_OCTs_Jakub_Gwizdala/0_backup_folder_development/AMD/scans_for_final_segmentation/to_review')"
   ]
  },
  {
   "cell_type": "code",
   "execution_count": 69,
   "metadata": {},
   "outputs": [],
   "source": [
    "to_review_mapping = {}\n",
    "i = 0\n",
    "for sample in to_review:\n",
    "    pickle_file = preprocessing_dir / f'{sample}.pickle'\n",
    "    with open(pickle_file, 'rb') as file:\n",
    "        preprocessed_scans = pickle.load(file)\n",
    "    \n",
    "    for scan in preprocessed_scans:\n",
    "        scan_data = scan.scan_data()\n",
    "        scan_source_location = scan_data.oct_scan.filename\n",
    "        group = scan_data.group\n",
    "        \n",
    "        lookup_filename = scan_source_location[scan_source_location.find('raw_dataset') + 12:]\n",
    "        meta_filename = mapping[lookup_filename][-1]\n",
    "        meta_source_location = meta_root_dir / meta_filename\n",
    "        \n",
    "        scan_target_location = target_dir / group / f'{i}_tr.tif'\n",
    "        shutil.copy2(scan_source_location, scan_target_location)\n",
    "        shutil.copy2(meta_source_location, target_dir / group / f'{i}_tr.meta')\n",
    "        to_review_mapping[scan_source_location] = str(scan_target_location)\n",
    "        i += 1"
   ]
  },
  {
   "cell_type": "code",
   "execution_count": 72,
   "metadata": {},
   "outputs": [],
   "source": [
    "with open('mappings/to_review_mapping.pickle', 'wb') as file:\n",
    "    pickle.dump(to_review_mapping, file)"
   ]
  }
 ],
 "metadata": {
  "kernelspec": {
   "display_name": "Python 3",
   "language": "python",
   "name": "python3"
  },
  "language_info": {
   "codemirror_mode": {
    "name": "ipython",
    "version": 3
   },
   "file_extension": ".py",
   "mimetype": "text/x-python",
   "name": "python",
   "nbconvert_exporter": "python",
   "pygments_lexer": "ipython3",
   "version": "3.8.5"
  }
 },
 "nbformat": 4,
 "nbformat_minor": 5
}
